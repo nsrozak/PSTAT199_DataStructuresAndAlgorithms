{
 "cells": [
  {
   "cell_type": "markdown",
   "metadata": {},
   "source": [
    "# Templates for Outputting Summaries\n",
    "Used to output summaries for estimate value, confidence interval, and standard error"
   ]
  },
  {
   "cell_type": "markdown",
   "metadata": {},
   "source": [
    "## Estimates"
   ]
  },
  {
   "cell_type": "code",
   "execution_count": 1,
   "metadata": {},
   "outputs": [],
   "source": [
    "def estIntercept(val):\n",
    "    '''outputs summary statement for estimated intercept'''\n",
    "    intercept = ('The estimated intercept is {x}. If the size of an array is 0, on average,' \n",
    "                ' I expect the run time to be {y} seconds.').format(x = val, y = val)\n",
    "    print(intercept)\n",
    "    \n",
    "def estTerm(val, term):\n",
    "    '''outputs summary statement for estimated coefficient'''\n",
    "    coef = ('The estimated coefficent for the {x} term is {y}. If {z} by one unit, on average, I expect' \n",
    "         ' the run time to increase by {q} seconds.').format(x = term, y = val, z = term, q = val)\n",
    "    print(coef)"
   ]
  },
  {
   "cell_type": "markdown",
   "metadata": {},
   "source": [
    "## Confidence Intervals"
   ]
  },
  {
   "cell_type": "code",
   "execution_count": 2,
   "metadata": {},
   "outputs": [],
   "source": [
    "def CIintercept(lower, upper):\n",
    "    '''outputs summary statement for intercept confidence interval'''\n",
    "    CI = ('I am 95% confident that the true average run time for an array of length 0 is between'\n",
    "            ' {x} and {y} seconds.').format(x = lower, y = upper)\n",
    "    print(CI)\n",
    "\n",
    "def CITerm(lower, upper, term):\n",
    "    '''outputs summary statement for coefficient confidence interval'''\n",
    "    CI = ('I am 95% confident that the true expected change in run time for one unit increase in {z}'\n",
    "            ' is between {x} and {y} seconds.').format(x = lower, y = upper, z = term)\n",
    "    print(CI)"
   ]
  },
  {
   "cell_type": "markdown",
   "metadata": {},
   "source": [
    "## Standard Error"
   ]
  },
  {
   "cell_type": "code",
   "execution_count": 3,
   "metadata": {},
   "outputs": [],
   "source": [
    "def SEintercept(val):\n",
    "    '''outputs summary statement for intercept standard error'''\n",
    "    SEint = ('The standard error of the intercept is {x}.').format(x = val)\n",
    "    print(SEint)\n",
    "    \n",
    "def SEterm(val, term):\n",
    "    '''outputs summary statement for coefficient standard error'''\n",
    "    SE = ('The standard error of the coefficient for the {x} term is {y}.').format(x = term, y = val)\n",
    "    print(SE)"
   ]
  },
  {
   "cell_type": "code",
   "execution_count": null,
   "metadata": {},
   "outputs": [],
   "source": []
  }
 ],
 "metadata": {
  "kernelspec": {
   "display_name": "Python 3",
   "language": "python",
   "name": "python3"
  },
  "language_info": {
   "codemirror_mode": {
    "name": "ipython",
    "version": 3
   },
   "file_extension": ".py",
   "mimetype": "text/x-python",
   "name": "python",
   "nbconvert_exporter": "python",
   "pygments_lexer": "ipython3",
   "version": "3.7.1"
  }
 },
 "nbformat": 4,
 "nbformat_minor": 2
}
