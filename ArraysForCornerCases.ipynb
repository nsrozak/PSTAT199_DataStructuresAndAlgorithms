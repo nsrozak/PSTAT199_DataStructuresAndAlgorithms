{
 "cells": [
  {
   "cell_type": "markdown",
   "metadata": {},
   "source": [
    "# Arrays Used for Corner Cases"
   ]
  },
  {
   "cell_type": "code",
   "execution_count": 1,
   "metadata": {},
   "outputs": [],
   "source": [
    "# imports\n",
    "from random import randint"
   ]
  },
  {
   "cell_type": "markdown",
   "metadata": {},
   "source": [
    "## Create Arrays\n",
    "- store arrays so they can be used in other programs \n",
    "- used to test how each algorithm performs when arrays are arranged in a specific order or elements are a specific value\n",
    "### Arrays Where all Elements are the Same"
   ]
  },
  {
   "cell_type": "code",
   "execution_count": 2,
   "metadata": {},
   "outputs": [
    {
     "name": "stdout",
     "output_type": "stream",
     "text": [
      "Stored 'arrSame' (list)\n"
     ]
    }
   ],
   "source": [
    "# array of arrays where all elements are the same\n",
    "arrSame = []\n",
    "# create arrays\n",
    "for i in range (0,6):\n",
    "    array = []\n",
    "    for j in range (0,9000):\n",
    "        array.append(i)\n",
    "    arrSame.append(array)\n",
    "# store array\n",
    "%store arrSame"
   ]
  },
  {
   "cell_type": "markdown",
   "metadata": {},
   "source": [
    "### Arrays Where All Place Values are the Same Except the Ones Place\n",
    "- elements in the arrays are 1000000000 + (random integer between 0 and 9)"
   ]
  },
  {
   "cell_type": "code",
   "execution_count": 3,
   "metadata": {},
   "outputs": [
    {
     "name": "stdout",
     "output_type": "stream",
     "text": [
      "Stored 'arrKey' (list)\n"
     ]
    }
   ],
   "source": [
    "# array of arrays where all keys are the same except the last\n",
    "arrKey = []\n",
    "# create arrays\n",
    "for i in range(0,6):\n",
    "    array = []\n",
    "    for j in range(0,9000):\n",
    "        last = randint(0,9)\n",
    "        val = 1000000000 + last\n",
    "        array.append(val)\n",
    "    arrKey.append(array)\n",
    "# store array\n",
    "%store arrKey"
   ]
  },
  {
   "cell_type": "markdown",
   "metadata": {},
   "source": [
    "### Arrays where Elements are Arranged in Ascending Order"
   ]
  },
  {
   "cell_type": "code",
   "execution_count": 4,
   "metadata": {},
   "outputs": [
    {
     "name": "stdout",
     "output_type": "stream",
     "text": [
      "Stored 'arrInc' (list)\n"
     ]
    }
   ],
   "source": [
    "# array of arrays where all elements are increasing\n",
    "arrInc = []\n",
    "# create arrays\n",
    "for i in range(0,6):\n",
    "    array = []\n",
    "    val = 10**i\n",
    "    for j in range(0,9000):\n",
    "        num = val + j\n",
    "        array.append(num)\n",
    "    arrInc.append(array)\n",
    "# store array\n",
    "%store arrInc"
   ]
  },
  {
   "cell_type": "markdown",
   "metadata": {},
   "source": [
    "### Arrays Where Elements are Arranged in Descending Order"
   ]
  },
  {
   "cell_type": "code",
   "execution_count": 5,
   "metadata": {},
   "outputs": [
    {
     "name": "stdout",
     "output_type": "stream",
     "text": [
      "Stored 'arrDec' (list)\n"
     ]
    }
   ],
   "source": [
    "# array of arrays where all elements are decreasing\n",
    "arrDec = []\n",
    "# create arrays\n",
    "for i in range(0,6):\n",
    "    array = []\n",
    "    val = 10**i\n",
    "    for j in range(9000,0,-1):\n",
    "        num = val + j\n",
    "        array.append(num)\n",
    "    arrDec.append(array)\n",
    "# store array\n",
    "%store arrDec"
   ]
  },
  {
   "cell_type": "code",
   "execution_count": null,
   "metadata": {},
   "outputs": [],
   "source": []
  }
 ],
 "metadata": {
  "kernelspec": {
   "display_name": "Python 3",
   "language": "python",
   "name": "python3"
  },
  "language_info": {
   "codemirror_mode": {
    "name": "ipython",
    "version": 3
   },
   "file_extension": ".py",
   "mimetype": "text/x-python",
   "name": "python",
   "nbconvert_exporter": "python",
   "pygments_lexer": "ipython3",
   "version": "3.7.1"
  }
 },
 "nbformat": 4,
 "nbformat_minor": 2
}
