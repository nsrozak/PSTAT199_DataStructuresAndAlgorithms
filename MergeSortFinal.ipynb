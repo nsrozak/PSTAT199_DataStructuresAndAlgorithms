{
 "cells": [
  {
   "cell_type": "markdown",
   "metadata": {},
   "source": [
    "# Merge Sort\n",
    "Merge sort is a sorting algorithm that uses divide and conquer. The function continues dividing the array into left and right subarrays until each subarray is length 1. Then, the function combines adjacent arrays, putting elements in ascending order. Subarrays are merged into bigger and bigger subarrays until the final array is created. Merge sort is an efficient sorting algorithm.  <br>\n",
    "Facts about merge sort:\n",
    "* comparison sorting algorithm: compares elements of an array\n",
    "* stable sorting algorithm: preserves the relative order of equivalent elements\n",
    "* not an in-place algorithm: O(n) auxiliary space is required to run this algorithm since an additional array of length n is needed\n",
    "    * for sorting linked lists, function can be implemented to have space complexity O(1)\n",
    "* not an adaptive algorithm: run time is not affected when given a partially sorted array\n",
    "* determinisitic algorithm: when given a certain input, same sequence of steps and result occurs"
   ]
  },
  {
   "cell_type": "code",
   "execution_count": 1,
   "metadata": {},
   "outputs": [],
   "source": [
    "# global imports\n",
    "from time import time\n",
    "import matplotlib.pyplot as plt\n",
    "import math\n",
    "from pandas import DataFrame\n",
    "import statsmodels.formula.api as sm\n",
    "import numpy as np"
   ]
  },
  {
   "cell_type": "markdown",
   "metadata": {},
   "source": [
    "## Merge Sort Function\n",
    "Steps to implement merge sort function:\n",
    "1. write code for the divide phase\n",
    " - create a base case that stops the recursive calls when the length of a subarray equals 1\n",
    " - find the middle index of the array\n",
    " - create a left subarray that contains all elements up to (not including) the middle index\n",
    " - create a right subarray that contains all elements from the middle index to the end of the array\n",
    " - recursively call mergeSort() on the left subarray to create subarrays until all subarrays are length 1\n",
    " - recursively call mergeSort() on the right subarray to create subarrays until all subarrays are length 1\n",
    "2. write code for the conquer phase\n",
    " - initialize i, j, and k to track the current index of the left, right, and sorted array\n",
    " - create a while loop that executes when both the left and right subarrays have unused items\n",
    " - if the ith item of the left subarray is less than the jth item of the right subarray, set the kth item of the sorted array to be the ith item\n",
    " - if the jth item of the right subarray is less than the ith item of the left subarray, set the kth item of the sorted array to be the jth item\n",
    " - create a while loop that executes when there are still elements in the left subarray and no elements in the right subarray. This while loop copies remaining items to the sorted array\n",
    " - create a while loop that executes when there are still elements in the right subarray and no elements in the left subarray. This while loop copies remaining items to the sorted array\n",
    " - if mergeSort() is called recursively 2n times, the process of combining subarrays into larger sorted subarrays will occur n times--until a final sorted array is created"
   ]
  },
  {
   "cell_type": "code",
   "execution_count": 2,
   "metadata": {},
   "outputs": [],
   "source": [
    "# merge sort function\n",
    "def mergeSort(arr):\n",
    "    '''sorts an array of integers from smallest to largest'''\n",
    "    # divide phase\n",
    "    if len(arr) == 1:\n",
    "        return\n",
    "    middleIndex = len(arr) // 2\n",
    "    left = arr[: middleIndex]\n",
    "    right = arr[middleIndex :]\n",
    "    mergeSort(left)\n",
    "    mergeSort(right)\n",
    "    # conquer phase\n",
    "    i = 0\n",
    "    j = 0\n",
    "    k = 0\n",
    "    while i < len(left) and j < len(right):\n",
    "        if left[i] < right[j]:\n",
    "            arr[k] = left[i]\n",
    "            i = i + 1\n",
    "        else:\n",
    "            arr[k] = right[j]\n",
    "            j = j + 1\n",
    "        k = k + 1\n",
    "    while i < len(left):\n",
    "        arr[k] = left[i]\n",
    "        k = k + 1\n",
    "        i = i + 1\n",
    "    while j < len(right):\n",
    "        arr[k] = right[j]\n",
    "        k = k + 1\n",
    "        j = j + 1  "
   ]
  },
  {
   "cell_type": "markdown",
   "metadata": {},
   "source": [
    "## Timing Function\n",
    "To obtain observed values for the runtime of the algorithm, I wrote a function that times how long it takes for the program to merge sort an array. Steps to implement the timing function:\n",
    "1. initialize a variable t that will hold the runtime\n",
    "2. set t0 equal to the current time (before sorting)\n",
    "3. sort the array with merge sort\n",
    "4. set t1 to the current time (after sorting)\n",
    "5. set t equal to the difference between t1 and t0, which is the run time for sorting the array\n",
    "6. return the run time"
   ]
  },
  {
   "cell_type": "code",
   "execution_count": 3,
   "metadata": {},
   "outputs": [],
   "source": [
    "def timeOneMerge(arr):\n",
    "    '''times how long it takes to sort an array'''\n",
    "    t = 0\n",
    "    t0 = time()\n",
    "    s = mergeSort(arr)\n",
    "    t1 = time()\n",
    "    t = t1 - t0\n",
    "    return t"
   ]
  },
  {
   "cell_type": "markdown",
   "metadata": {},
   "source": [
    "## Sort Sample Arrays and Find Run Time\n",
    "1. import arrrays of different lengths. These arrays are created in the arrays program. The arrays are used for each sorting algorithm, allowing for direct comparison of algorithms.\n",
    "3. use timeOneMerge() function to find the run time of sorting each array"
   ]
  },
  {
   "cell_type": "code",
   "execution_count": 4,
   "metadata": {},
   "outputs": [],
   "source": [
    "# import arrays from array program\n",
    "%store -r arr1\n",
    "%store -r arr2\n",
    "%store -r arr3\n",
    "%store -r arr4\n",
    "%store -r arr5\n",
    "%store -r arr6\n",
    "%store -r arr7\n",
    "%store -r arr8\n",
    "\n",
    "# time how long it takes to sort each array\n",
    "time1 = timeOneMerge(arr1)\n",
    "time2 = timeOneMerge(arr2)\n",
    "time3 = timeOneMerge(arr3)\n",
    "time4 = timeOneMerge(arr4)\n",
    "time5 = timeOneMerge(arr5)\n",
    "time6 = timeOneMerge(arr6)\n",
    "time7 = timeOneMerge(arr7)\n",
    "time8 = timeOneMerge(arr8)\n",
    "\n",
    "# create an array of times\n",
    "times = [time1, time2, time3, time4, time5, time6, time7, time8]"
   ]
  },
  {
   "cell_type": "markdown",
   "metadata": {},
   "source": [
    "## Theoretical Run Time with Big O\n",
    "### Time Complexity of Merge Sort Function\n",
    "For the worst case scenario, the arrays are arranged so the maximum number of comparisons occur during the conquer phase. I used an array with an even number of elements and the right array has the largest item when I calculated this time complexity. <br> \n",
    "Time complexity for mergeSort() <br>\n",
    "Divide phase:\n",
    "1. each statement inside the divide and conquer phase gets executed once\n",
    "2. the recursive call mergeSort() on the left runs in T(n/2) time\n",
    "3. the recursive call mergeSort() on the right runs in T(n/2) time\n",
    "4. sum time complexities of all the statements to get T = 2T(n/2) + a <br>\n",
    "\n",
    "Conquer phase:\n",
    "1. for the worst case scenario, the first while loop executes n times\n",
    " - it iterates n - 1 times, plus runs an additional time to check that the condition is not met\n",
    "2. statements inside the first while loop execute n-1 times\n",
    "3. when there are no items in the left subarray, the second while loop executes once\n",
    " - it executes 1 time to check that the condition is not met\n",
    "4. statements inside the second while loop do not execute\n",
    "5. when there is 1 item in the right subarray, the third while loop executes 2 times\n",
    " - it iterates 1 time, plus runs an additional time to check that the condition is not met\n",
    "6. statements inside the thrid while loop run 1 time\n",
    "7. sum time complexities of all the statements to get T = an + b <br>\n",
    "\n",
    "Together:\n",
    "1. add the time complexities from the divide and conquer phases to get T = 2T(n/2) + an + b\n",
    "2. expand expression\n",
    " - T = 2T(n/2) + an + b\n",
    " - T = 2(2T(n/2) + an/2 + b) + cn + d = 4T(n/4) + 2an + b\n",
    " - T = 4(2T(n/8) + an/4 + b) + cn + d = 8T(n/8) + 3an + b\n",
    " - ...\n",
    " - T = 2^kT(n/(2^k)) + kan + b\n",
    "3. transform expression to T(1) = 1 run time\n",
    " - T(1) = T(n/(2^k)), so 1 = n/(2^k), 2^k = n, and k = logn where log is base 2\n",
    " - T = nT(1) + log(n)an + b\n",
    "4. then we have T = anlog(n) + bn + c\n",
    "5. the fastest growing term is anlog(n), so nlog(n) goes in the O() expression <br>\n",
    "\n",
    "The time complexity for merge sort is O(nlog(n))"
   ]
  },
  {
   "cell_type": "markdown",
   "metadata": {},
   "source": [
    "### Theoretical Time Complexity Using O(nlog(n))\n",
    "Steps to find the theoretical run time with Big O:\n",
    "1. create an X matrix of predictors\n",
    " - create columns of 1, n and nlog(n) where n is the array length\n",
    " - use array lengths of the sample arrays: 3000, 4500, 6000, 7500, 9000, 10500, 12000, 13500\n",
    "2. create a Y matrix of responses\n",
    " - use the sample run times\n",
    "3. use multiple linear regression to get the equation Y = a + bn + cnlog(n)\n",
    " - a, b, and c are ordinary least squares estimated coefficients\n",
    "4. since merge sort is O(nlog(n)), theoretical run times are T = a + bn + cnlog(n)\n",
    " - use the coefficients found in multiple linear regression\n",
    " - n represents the length of the array"
   ]
  },
  {
   "cell_type": "code",
   "execution_count": 5,
   "metadata": {},
   "outputs": [],
   "source": [
    "# array of ones\n",
    "ones = [1, 1, 1, 1, 1, 1, 1, 1]\n",
    "\n",
    "# array of lengths\n",
    "length = [3000, 4500, 6000, 7500, 9000, 10500, 12000, 13500]\n",
    "\n",
    "# create array of lengthLogLength\n",
    "lengthLogLength = []\n",
    "for i in range(0, 8):\n",
    "    val = length[i] * math.log2(length[i])\n",
    "    lengthLogLength.append(val)\n",
    "\n",
    "# create a dataframe\n",
    "Data = {'ones': ones, 'length': length, 'lengthLogLength': lengthLogLength, 'times': times}\n",
    "df = DataFrame(Data, columns=['ones', 'length', 'lengthLogLength', 'times'])\n",
    "# matrix of predictors\n",
    "X = df[['ones', 'length', 'lengthLogLength']]\n",
    "# vector of responses\n",
    "Y = df['times']\n",
    "\n",
    "# fit multiple linear regression\n",
    "result = sm.OLS(Y, X).fit()\n",
    "\n",
    "# theoretical coefficients\n",
    "a = result.params[0]\n",
    "b = result.params[1]\n",
    "c = result.params[2]"
   ]
  },
  {
   "cell_type": "markdown",
   "metadata": {},
   "source": [
    "### Ordinary Least Squares Estimated Coefficients\n",
    "See below for summary statements regarding the estimated coefficients and their 95% confidence intervals\n",
    "* the intercept coefficient has a confidence interval containg 0, which is incorrect\n",
    "    * a confidence interval containing 0 suggests if there are 0 elements in an array, the computer will take 0 time to sort the array\n",
    "    * this is not true, the computer will still run through the heap sort function, which takes a small amount of time\n",
    "    * note that the standard error for this coefficient is large--this causes the confidence interval to incorrectly contain 0\n",
    "* the predictor coefficients have estimates close to 0, as expected\n",
    "    * coefficients measure changes in run time with small changes in array length, and we expect these changes to be slight\n",
    "    * significant increases in run times occur when there are large changes in array length\n",
    "    * a confidence interval containing 0 may not necessarily be incorrect; adding one element to an array may produce an immeasurable change in run time"
   ]
  },
  {
   "cell_type": "code",
   "execution_count": 6,
   "metadata": {},
   "outputs": [
    {
     "name": "stdout",
     "output_type": "stream",
     "text": [
      "The estimated intercept is -0.017393745. If the size of an array is 0, on average, I expect the run time to be -0.017393745 seconds.\n",
      "I am 95% confident that the true average run time for an array of length 0 is between -0.055775400 and 0.020987910 seconds.\n",
      "The standard error of the intercept is 0.014931116.\n",
      "\n",
      "The estimated coefficent for the n term is 0.000031094. If the size of an array increases by 1 element, on average, I expect the run time to increase by 0.000031094 seconds.\n",
      "I am 95% confident that the true expected change in run time for a one unit increase in array size is between -0.000021744 and 0.000083932 seconds.\n",
      "The standard error of the coefficient for the n term is 0.000020555.\n",
      "\n",
      "The estimated coefficent for the nlog2(n) term, where n is the size of the array, is -0.000001687. If nlog(n) increases by 1 element, on average, I expect the run time to increase by -0.000001687 seconds.\n",
      "I am 95% confident that the true expected change in run time for a one unit increase in nlog2(n) is between -0.000005363 and 0.000001989 seconds.\n",
      "The standard error of the coefficient for the nlog(n) term is 0.000001430.\n"
     ]
    }
   ],
   "source": [
    "# variable holding confidence intervals\n",
    "confInt = result.conf_int(alpha = 0.05, cols = None)\n",
    "# variable holding standard errors\n",
    "stE = result.bse\n",
    "\n",
    "# intercept\n",
    "aDec = '{:10.9f}'.format(a)\n",
    "intercept = ('The estimated intercept is {x}. If the size of an array is 0, on average,' \n",
    "                ' I expect the run time to be {y} seconds.').format(x = aDec, y = aDec)\n",
    "print(intercept)\n",
    "# intercept confidence interval\n",
    "aLower = '{:10.9f}'.format(confInt[0][0])\n",
    "aUpper = '{:10.9f}'.format(confInt[1][0])\n",
    "intCI = ('I am 95% confident that the true average run time for an array of length 0 is between'\n",
    "            ' {x} and {y} seconds.').format(x = aLower, y = aUpper)\n",
    "print(intCI)\n",
    "# intercept standard error\n",
    "aStE = '{:10.9f}'.format(stE[0])\n",
    "intStE = ('The standard error of the intercept is {x}.').format(x = aStE)\n",
    "print(intStE)\n",
    "print()\n",
    "\n",
    "# coefficient for n \n",
    "bDec = '{:10.9f}'.format(b)\n",
    "coef1 = ('The estimated coefficent for the n term is {x}. If the size of an array increases by 1 element, on' \n",
    "         ' average, I expect the run time to increase by {y} seconds.').format(x = bDec, y = bDec)\n",
    "print(coef1)\n",
    "# coefficient for n confidence interval\n",
    "bLower = '{:10.9f}'.format(confInt[0][1])\n",
    "bUpper = '{:10.9f}'.format(confInt[1][1])\n",
    "coef1CI = ('I am 95% confident that the true expected change in run time for a one unit increase in array size'\n",
    "            ' is between {x} and {y} seconds.').format(x = bLower, y = bUpper)\n",
    "print(coef1CI)\n",
    "# coefficient for n standard error\n",
    "bStE = '{:10.9f}'.format(stE[1])\n",
    "coef1StE = ('The standard error of the coefficient for the n term is {x}.').format(x = bStE)\n",
    "print(coef1StE)\n",
    "print()\n",
    "\n",
    "# coefficient for nlogn\n",
    "cDec = '{:10.9f}'.format(c)\n",
    "coef2 = ('The estimated coefficent for the nlog2(n) term, where n is the size of the array, is {x}. If nlog(n) '\n",
    "         'increases by 1 element, on average, I expect the run time to increase by {y} '\n",
    "         'seconds.').format(x = cDec, y = cDec)\n",
    "print(coef2)\n",
    "# coeficcient for nlogn confidence interval\n",
    "cLower = '{:10.9f}'.format(confInt[0][2])\n",
    "cUpper = '{:10.9f}'.format(confInt[1][2])\n",
    "coef2CI = ('I am 95% confident that the true expected change in run time for a one unit increase in nlog2(n) '\n",
    "            'is between {x} and {y} seconds.').format(x = cLower, y = cUpper)\n",
    "print(coef2CI)\n",
    "# coefficient for nlogn standard error\n",
    "cStE = '{:10.9f}'.format(stE[2])\n",
    "coef2StE = ('The standard error of the coefficient for the nlog(n) term is {x}.').format(x = cStE)\n",
    "print(coef2StE)"
   ]
  },
  {
   "cell_type": "markdown",
   "metadata": {},
   "source": [
    "## Compare Theoretical and Observed Run Time\n",
    "\n",
    "### Scatterplot \n",
    "\n",
    "I created a scatterplot of the observed run times and the theoretical run times for sorting arrays of different lengths.\n",
    "* observed run times are plotted in blue, theoretical trend line is drawn in red\n",
    "* observed values are very close to the theoretical trend line, meaning the theoretical run time of O(nlog(n)) is a good estimate for this data\n",
    "* discrepancies between observed and theoretical run time may be caused by experimental error: merge sort orders arrays very quickly, meaning any delay encountered by the computer significantly impacts observed results\n",
    "* there is a positive relationship between array size and run time"
   ]
  },
  {
   "cell_type": "code",
   "execution_count": 7,
   "metadata": {
    "scrolled": true
   },
   "outputs": [
    {
     "data": {
      "image/png": "[encoded data removed]",
      "text/plain": [
       "<Figure size 432x288 with 1 Axes>"
      ]
     },
     "metadata": {
      "needs_background": "light"
     },
     "output_type": "display_data"
    }
   ],
   "source": [
    "# regression line equation\n",
    "x = np.linspace(3000, 13500, 10500)\n",
    "line = a + b * x + c * x * np.log2(x)\n",
    "\n",
    "# scatterplot of observed and theoretical O(n^2) values\n",
    "plt.scatter(length, times, c = 'b')  # plot observed values in blue\n",
    "plt.plot(x, line, c = 'r')  # plot regression line equation in red\n",
    "plt.xlabel('Size of Input')\n",
    "plt.ylabel('Time (Seconds)')\n",
    "plt.title('Run Time of Observed and Theoretical O(nlog(n))')\n",
    "plt.show()"
   ]
  },
  {
   "cell_type": "markdown",
   "metadata": {},
   "source": [
    "### Mean Squared Error\n",
    "- mean squared error measures the squared distance between observed and theoretical values. A small mean squared error indicates observed and theoretical run times are similar\n",
    "- merge sort obtains an MSE that is close to 0, meaning the theoretical run times are a good estimate\n",
    "- this means merge sort has a run time of O(nlog(n))"
   ]
  },
  {
   "cell_type": "code",
   "execution_count": 10,
   "metadata": {},
   "outputs": [
    {
     "data": {
      "text/plain": [
       "'0.000015915'"
      ]
     },
     "execution_count": 10,
     "metadata": {},
     "output_type": "execute_result"
    }
   ],
   "source": [
    "# output the MSE\n",
    "MSE = '{:10.9f}'.format(result.mse_resid)\n",
    "MSE"
   ]
  },
  {
   "cell_type": "markdown",
   "metadata": {},
   "source": [
    "## Conclusion\n",
    "- the theoretical run time of heap sort is O(nlog(n))\n",
    "- data obtained from sorting sample arrays supports this conclusion\n",
    "    - on the scatterplot, observed values are close to theoretical values\n",
    "    - the mean squared error is close to 0"
   ]
  },
  {
   "cell_type": "code",
   "execution_count": null,
   "metadata": {},
   "outputs": [],
   "source": []
  }
 ],
 "metadata": {
  "kernelspec": {
   "display_name": "Python 3",
   "language": "python",
   "name": "python3"
  },
  "language_info": {
   "codemirror_mode": {
    "name": "ipython",
    "version": 3
   },
   "file_extension": ".py",
   "mimetype": "text/x-python",
   "name": "python",
   "nbconvert_exporter": "python",
   "pygments_lexer": "ipython3",
   "version": "3.7.1"
  }
 },
 "nbformat": 4,
 "nbformat_minor": 2
}
