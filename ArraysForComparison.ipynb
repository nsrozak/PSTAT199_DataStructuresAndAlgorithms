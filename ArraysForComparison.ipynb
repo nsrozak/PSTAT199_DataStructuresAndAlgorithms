{
 "cells": [
  {
   "cell_type": "markdown",
   "metadata": {},
   "source": [
    "# Arrays Used for Comparing Sorting Algorithms"
   ]
  },
  {
   "cell_type": "code",
   "execution_count": 1,
   "metadata": {},
   "outputs": [],
   "source": [
    "# imports\n",
    "from random import randint"
   ]
  },
  {
   "cell_type": "markdown",
   "metadata": {},
   "source": [
    "## Create Arrays\n",
    "### Function for Creating Arrays"
   ]
  },
  {
   "cell_type": "code",
   "execution_count": 2,
   "metadata": {},
   "outputs": [],
   "source": [
    "# create an array\n",
    "def createArray(length, maxint):\n",
    "    newArr = []\n",
    "    for i in range(0, length):\n",
    "        val = randint(0, maxint)\n",
    "        newArr.append(val)\n",
    "    return newArr"
   ]
  },
  {
   "cell_type": "markdown",
   "metadata": {},
   "source": [
    "### Create Different Arrays\n",
    "Use array function to create arrays of different sizes. Store arrays so they can be used in other programs (for finding runtime of sorting algorithms). "
   ]
  },
  {
   "cell_type": "code",
   "execution_count": 3,
   "metadata": {},
   "outputs": [
    {
     "name": "stdout",
     "output_type": "stream",
     "text": [
      "Stored 'arr1' (list)\n"
     ]
    }
   ],
   "source": [
    "# create and store first array\n",
    "arr1 = createArray(3000, 50)\n",
    "%store arr1"
   ]
  },
  {
   "cell_type": "code",
   "execution_count": 4,
   "metadata": {},
   "outputs": [
    {
     "name": "stdout",
     "output_type": "stream",
     "text": [
      "Stored 'arr2' (list)\n"
     ]
    }
   ],
   "source": [
    "# create and store second array\n",
    "arr2 = createArray(4500, 50)\n",
    "%store arr2"
   ]
  },
  {
   "cell_type": "code",
   "execution_count": 5,
   "metadata": {},
   "outputs": [
    {
     "name": "stdout",
     "output_type": "stream",
     "text": [
      "Stored 'arr3' (list)\n"
     ]
    }
   ],
   "source": [
    "# create and store third array\n",
    "arr3 = createArray(6000, 50)\n",
    "%store arr3"
   ]
  },
  {
   "cell_type": "code",
   "execution_count": 6,
   "metadata": {},
   "outputs": [
    {
     "name": "stdout",
     "output_type": "stream",
     "text": [
      "Stored 'arr4' (list)\n"
     ]
    }
   ],
   "source": [
    "# create and store fourth array\n",
    "arr4 = createArray(7500, 50)\n",
    "%store arr4"
   ]
  },
  {
   "cell_type": "code",
   "execution_count": 7,
   "metadata": {
    "scrolled": true
   },
   "outputs": [
    {
     "name": "stdout",
     "output_type": "stream",
     "text": [
      "Stored 'arr5' (list)\n"
     ]
    }
   ],
   "source": [
    "# create and store fifth array\n",
    "arr5 = createArray(9000, 50)\n",
    "%store arr5"
   ]
  },
  {
   "cell_type": "code",
   "execution_count": 8,
   "metadata": {},
   "outputs": [
    {
     "name": "stdout",
     "output_type": "stream",
     "text": [
      "Stored 'arr6' (list)\n"
     ]
    }
   ],
   "source": [
    "# create and store sixth array\n",
    "arr6 = createArray(10500, 50)\n",
    "%store arr6"
   ]
  },
  {
   "cell_type": "code",
   "execution_count": 9,
   "metadata": {},
   "outputs": [
    {
     "name": "stdout",
     "output_type": "stream",
     "text": [
      "Stored 'arr7' (list)\n"
     ]
    }
   ],
   "source": [
    "# create and store seventh array\n",
    "arr7 = createArray(12000, 50)\n",
    "%store arr7"
   ]
  },
  {
   "cell_type": "code",
   "execution_count": 10,
   "metadata": {},
   "outputs": [
    {
     "name": "stdout",
     "output_type": "stream",
     "text": [
      "Stored 'arr8' (list)\n"
     ]
    }
   ],
   "source": [
    "# create and store eigth array\n",
    "arr8 = createArray(13500, 50)\n",
    "%store arr8"
   ]
  }
 ],
 "metadata": {
  "kernelspec": {
   "display_name": "Python 3",
   "language": "python",
   "name": "python3"
  },
  "language_info": {
   "codemirror_mode": {
    "name": "ipython",
    "version": 3
   },
   "file_extension": ".py",
   "mimetype": "text/x-python",
   "name": "python",
   "nbconvert_exporter": "python",
   "pygments_lexer": "ipython3",
   "version": "3.7.1"
  }
 },
 "nbformat": 4,
 "nbformat_minor": 2
}
