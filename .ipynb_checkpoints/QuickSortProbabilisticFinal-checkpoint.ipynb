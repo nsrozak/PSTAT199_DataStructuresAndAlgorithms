{
 "cells": [
  {
   "cell_type": "markdown",
   "metadata": {},
   "source": [
    "# Randomized Quicksort\n",
    "Randomized quick sort is a probabilistic algorithm that uses divide and conquer to sort an array. The function uses partition() to randomly pick an element as the pivot item. partition() also rearranges the array so items smaller than the pivot are left of the pivot and items larger than the pivot are right of the pivot. The quickSort() function is then called recursively to sort the left and right subarrays. This process continues until all subarrays are of size 0, meaning the array is sorted. Quick sort is capable of sorting integers, floats, strings, and customized objects. Also, it is an efficient sorting algorithm.\n",
    "Fact about randomized quick sort:\n",
    "* comparison sorting algorithm: compares elements of an array\n",
    "* not a stable sorting algorithm: does not preserve the relative order of equivalent elements\n",
    "* in-place algorithm: has space complexity O(1), meaning it is memory efficient and sorted array is made locally\n",
    "* not an adaptive algorithm: run time is not affected when given a partially sorted array\n",
    "* probabilistic algorithm: there is a randomized factor that determines which steps are run"
   ]
  },
  {
   "cell_type": "code",
   "execution_count": 1,
   "metadata": {},
   "outputs": [
    {
     "name": "stdout",
     "output_type": "stream",
     "text": [
      "importing Jupyter notebook from CIandSETemplate.ipynb\n"
     ]
    }
   ],
   "source": [
    "# global imports\n",
    "from time import time\n",
    "import matplotlib.pyplot as plt\n",
    "import random\n",
    "import math\n",
    "from pandas import DataFrame\n",
    "import statsmodels.formula.api as sm\n",
    "import numpy as np\n",
    "import import_ipynb\n",
    "from CIandSETemplate import *"
   ]
  },
  {
   "cell_type": "markdown",
   "metadata": {},
   "source": [
    "## Randomized Quick Sort\n",
    "Steps to implement randomized quick sort function:\n",
    "1. write the function for quick sort\n",
    " - create a base case that stops the recursive function calls when the low index is greater than or equal to the high index, meaning the subarrays are size 0\n",
    " - find the pivot value using partition\n",
    " - recursively call quickSort() on the left subarray\n",
    " - recursively call quickSort() on the right subarray\n",
    " - note that low is the smallest index of the subarray and high is the largest index of the subarray\n",
    "2. write the function for partition\n",
    " - set the pivot index to be a random element from the subarray (this is the probabilistic aspect of randomized quicksort)\n",
    " - swap the values of the pivot index and the largest index so the pivot value is on the right side of the array\n",
    " - create a for loop that iterates through all elements of the subarray\n",
    " - if an element is smaller than the pivot value, move the item to the left side of the pivot value\n",
    " - move the pivot value to its permanent sorted index\n",
    " - return the index of the pivot\n",
    "3. write the funciton for swapping values\n",
    " - create a temporary variable to hold i (the larger value)\n",
    " - set the array at index i equal to the value of j (the smaller value)\n",
    " - set the array at index j equal to the value of i (the larger value)"
   ]
  },
  {
   "cell_type": "code",
   "execution_count": 2,
   "metadata": {},
   "outputs": [],
   "source": [
    "# quick sort function\n",
    "def quickSort(arr, low, high):\n",
    "    '''sorts an array of integers from smallest to largest'''\n",
    "    if low >= high:\n",
    "        return\n",
    "    pivotIndex = partition(arr, low, high)\n",
    "    quickSort(arr, low, pivotIndex - 1)\n",
    "    quickSort(arr, pivotIndex + 1, high)\n",
    "\n",
    "# partition function\n",
    "def partition(nums, low, high):\n",
    "    '''creates a median pivot point and splits a list of numbers between smaller than pivot and larger than pivot'''\n",
    "    pivotIndex = random.randint(low, high)\n",
    "    swap(nums, pivotIndex, high)\n",
    "    i = low\n",
    "    for j in range(low, high, 1):\n",
    "        if nums[j] <= nums[high]:\n",
    "            swap(nums, i, j)\n",
    "            i = i + 1\n",
    "    swap(nums, i, high)\n",
    "    return i\n",
    "\n",
    "# swap function\n",
    "def swap(nums, i, j):\n",
    "    '''swaps the order of two items in an array'''\n",
    "    temp = nums[i]\n",
    "    nums[i] = nums[j]\n",
    "    nums[j] = temp"
   ]
  },
  {
   "cell_type": "markdown",
   "metadata": {},
   "source": [
    "## Timing Function\n",
    "To obtain observed values for the runtime of the algorithm, I wrote a function that times how long it takes for the program to quick sort an array. Steps to implement the timing function:\n",
    "1. set variable hi to be the largest index of the given array (used later in function call for quickSort())\n",
    "2. initialize a variable t that will hold the runtime\n",
    "3. set t0 equal to the current time (before sorting)\n",
    "4. sort the array with quick sort\n",
    " - use 0 as the smallest index and hi as the largest index of the array\n",
    "5. set t1 to the current time (after sorting)\n",
    "6. set t equal to the difference between t1 and t0, which is the run time for sorting the array\n",
    "7. return the run time"
   ]
  },
  {
   "cell_type": "code",
   "execution_count": 3,
   "metadata": {},
   "outputs": [],
   "source": [
    "def timeOneQuick(arr):\n",
    "    '''times how long it takes to sort an array'''\n",
    "    hi = len(arr) - 1\n",
    "    t = 0\n",
    "    t0 = time()\n",
    "    s = quickSort(arr, 0, hi)\n",
    "    t1 = time()\n",
    "    t = t1 - t0\n",
    "    return t"
   ]
  },
  {
   "cell_type": "markdown",
   "metadata": {},
   "source": [
    "## Sort Sample Arrays and Find Run Time\n",
    "1. import arrrays\n",
    " - there are arrays of length 3000, 4500, 6000, 7500, 9000, 10500, 12000, and 13500\n",
    " - for each length, there are 6 different arrays\n",
    "2. use timeOneQuick() function to find the run time of sorting each array"
   ]
  },
  {
   "cell_type": "code",
   "execution_count": 4,
   "metadata": {},
   "outputs": [],
   "source": [
    "# import stored arrays\n",
    "%store -r arrq\n",
    "\n",
    "# initiate a list to hold the times\n",
    "times = []\n",
    "\n",
    "# times how long it takes to sort each array, stores time in list of times\n",
    "for i in arrq:\n",
    "    t = timeOneQuick(i)\n",
    "    times.append(t)"
   ]
  },
  {
   "cell_type": "markdown",
   "metadata": {},
   "source": [
    "## Theoretical Time Complexity with Big O\n",
    "### Data Frame for Calculations\n",
    "Holds the data used to calculate theoretical time complexities with multiple linear regression"
   ]
  },
  {
   "cell_type": "code",
   "execution_count": 5,
   "metadata": {},
   "outputs": [],
   "source": [
    "# array of ones\n",
    "ones = []\n",
    "for i in range(0, 48):\n",
    "    ones.append(1)\n",
    "    \n",
    "# array of different lengths \n",
    "diffLengths = [3000, 4500, 6000, 7500, 9000, 10500, 12000, 13500]\n",
    "\n",
    "# array of lengths\n",
    "length = []\n",
    "for i in diffLengths:\n",
    "    for j in range(0, 6):\n",
    "        length.append(i)\n",
    "        \n",
    "# array of lengthLogLength\n",
    "lenLog = []\n",
    "for i in diffLengths:\n",
    "    for j in range(0, 6):\n",
    "        val = i * math.log2(i)\n",
    "        lenLog.append(val)\n",
    "        \n",
    "# array of length^2\n",
    "lenSq = []\n",
    "for i in diffLengths:\n",
    "    for j in range(0, 6):\n",
    "        val = i ** 2\n",
    "        lenSq.append(val)\n",
    "\n",
    "# create a dataframe\n",
    "Data = {'ones': ones, 'length': length, 'lengthLogLength': lenLog, 'lengthSq': lenSq, 'times': times}\n",
    "df = DataFrame(Data, columns=['ones', 'length', 'lengthLogLength', 'lengthSq', 'times'])\n",
    "# vector of responses\n",
    "Y = df['times']"
   ]
  },
  {
   "cell_type": "markdown",
   "metadata": {},
   "source": [
    "### Worst Case Time Complexity of Quick Sort Function \n",
    "The worst case scenario for quickSort() occurs if each call of partition() splits the n length array into arrays of length 1 and n - 1. <br>\n",
    "\n",
    "Assumptions in this calculation (for simplicity reasons)\n",
    " - the random choice of pivot always ends ub being the smallest index\n",
    " - the given array is ordered from high to low\n",
    "\n",
    "Time Complexity for quickSort()\n",
    "1. each statement inside quickSort() gets executed once\n",
    "2. for the worst case scenario, the recursive call quickSort() on the left runs in T(n-1) time\n",
    "3. for the worst case scenario, the recursive call quickSort() on the right runs in T(0) time\n",
    "4. sum the time complexities of all the statements to get T = T(n-1) + a <br>\n",
    "\n",
    "Time complexity for partition()\n",
    "1. the for loop executes n - m times where m is the number of already sorted elements in the array\n",
    " - it iterates n - m - 1 times and checks an additional time to see if the next value of i is not in the range\n",
    "2. statements inside the for loop execute n - m - 1 times\n",
    "3. statements inside the if statement execute n - m - 2 times\n",
    " - to sort the remaining elements of the array, there must be n - m - 2 swaps\n",
    "4. all remaining statements execute 1 time\n",
    "5. sum the time complexities of all the statements to get T = an + b <br>\n",
    "\n",
    "Together\n",
    "1. add the time complexities of quickSort() and partition() to get T = T(n-1) + an + b\n",
    "2. adjust expression so all terms are T(1) run time\n",
    " - T = T(n-1) + an + b\n",
    " - T = T(n-2) + a(n-1) + bn + c\n",
    " - ...\n",
    " - T = T(1) + a2 + ... + b(n-1) + cn + d\n",
    "3. note that T(1) = 1\n",
    " - T = a1 + b2 + ... + c(n-1) + dn = c(1 + 2 + ... + (n-1) + n)\n",
    " - by arithmatic sequences properties, this is equivalent to c(n(n+1)/2). Expanding, we get c(1/2)(n^2 + n)\n",
    "4. then we have T = an^2 + bn + c\n",
    "5. the fastest growing term is an^2, so n^2 goes in the O() expression <br>\n",
    "\n",
    "The time complexity for worst case quickSort is O(n^2)"
   ]
  },
  {
   "cell_type": "markdown",
   "metadata": {},
   "source": [
    "### Theoretical  Worse Case Time Complexity Using O(n^2)\n",
    "Steps to find the theoretical run time with Big O:\n",
    "1. create an Z matrix of predictors\n",
    " - create columns of 1, n and n^2 where n is the array length\n",
    " - use array lengths of the sample arrays: 3000, 4500, 6000, 7500, 9000, 10500, 12000, 13500\n",
    "2. create a Y matrix of responses\n",
    " - use the sample run times\n",
    "3. use multiple linear regression to get the equation Y = a + bn + cn^2\n",
    " - a, b, and c are ordinary least squares estimated coefficients\n",
    "4. since worst case time complexity of randomized quick sort is O(n^2), theoretical run times are T = a + bn + cn^2\n",
    " - use the coefficients found in multiple linear regression\n",
    " - n represents the length of the array"
   ]
  },
  {
   "cell_type": "code",
   "execution_count": 6,
   "metadata": {},
   "outputs": [],
   "source": [
    "# matrix of predictors\n",
    "Z = df[['ones', 'length', 'lengthSq']]\n",
    "\n",
    "# fit multiple linear regression\n",
    "resultWC = sm.OLS(Y, Z).fit()\n",
    "\n",
    "# theoretical coefficients\n",
    "aWC = resultWC.params[0]\n",
    "bWC = resultWC.params[1]\n",
    "cWC = resultWC.params[2]"
   ]
  },
  {
   "cell_type": "markdown",
   "metadata": {},
   "source": [
    "### Ordinary Least Squares Estimated Coefficients of Worst Case Time Complexity\n",
    "See below for summary statements regarding the estimated coefficients and their 95% confidence intervals <br>\n",
    "* the coefficients have estimates close to 0, as expected\n",
    "    * coefficients measure changes in run time with small changes in array length, and we expect these changes to be slight\n",
    "    * significant increases in run times occur when there are large changes in array length"
   ]
  },
  {
   "cell_type": "code",
   "execution_count": 7,
   "metadata": {},
   "outputs": [
    {
     "name": "stdout",
     "output_type": "stream",
     "text": [
      "The estimated intercept is 0.056353609. If the size of an array is 0, on average, I expect the run time to be 0.056353609 seconds.\n",
      "I am 95% confident that the true average run time for an array of length 0 is between -0.020706133 and 0.133413351 seconds.\n",
      "The standard error of the intercept is 0.038260073.\n",
      "\n",
      "The estimated coefficent for the n term is -0.000014859. If n by one unit, on average, I expect the run time to increase by -0.000014859 seconds.\n",
      "I am 95% confident that the true expected change in run time for one unit increase in n is between -0.000035598 and 0.000005880 seconds.\n",
      "The standard error of the coefficient for the n term is 0.000010297.\n",
      "\n",
      "The estimated coefficent for the n^2 term is 0.000000005. If n^2 by one unit, on average, I expect the run time to increase by 0.000000005 seconds.\n",
      "I am 95% confident that the true expected change in run time for one unit increase in n^2 is between 0.000000004 and 0.000000007 seconds.\n",
      "The standard error of the coefficient for the n^2 term is 0.000000001.\n",
      "\n"
     ]
    }
   ],
   "source": [
    "# variable holding confidence intervals\n",
    "confInt = resultWC.conf_int(alpha = 0.05, cols = None)\n",
    "# variable holding standard errors\n",
    "stE = resultWC.bse\n",
    "\n",
    "# array of terms\n",
    "terms = ['1', 'n', 'n^2']\n",
    "\n",
    "# print the summaries\n",
    "for i in range(0, 3):\n",
    "    est = '{:10.9f}'.format(resultWC.params[i])\n",
    "    lower = '{:10.9f}'.format(confInt[0][i])\n",
    "    upper = '{:10.9f}'.format(confInt[1][i])\n",
    "    se = '{:10.9f}'.format(stE[i])\n",
    "    if i == 0:\n",
    "        estIntercept(est)\n",
    "        CIintercept(lower, upper)\n",
    "        SEintercept(se)  \n",
    "    else:\n",
    "        estTerm(est, terms[i])\n",
    "        CITerm(lower, upper, terms[i])\n",
    "        SEterm(se, terms[i])\n",
    "    print()"
   ]
  },
  {
   "cell_type": "markdown",
   "metadata": {},
   "source": [
    "## Expected Run Time with Big O\n",
    "\n",
    "### Expected Run Time of Randomized Quick Sort Function\n",
    "Expected run time of the randomize quick sort function can be found through analyzing the expected number of comparisons. The expected number of comparisons is affected by the number of times quick sort is recursively called, so the expected number of comparisons and the expected run time have the same time complexity. <br>\n",
    "Steps to find the expected run time:\n",
    "1. define variables\n",
    "- X = total number of comparisons in all calls of quickSort()\n",
    "- zi = the ith smallest element of the array\n",
    "    - Zij = {zi, ... zj} is the set of elements between zi and zj\n",
    "- Zk is the random variable for choosing the kth element as the first pivot from Zij\n",
    "    - Zi, ..., Zj are independent, identically distributed random variables following a Uniform(i, j + 1) distribution\n",
    "    - P(zk is the first pivot) = 1/(j + 1 - i)\n",
    "- Xij is an indicator random variable for the event that the ith smallest and jth smallest elements are compared in an execution of quick sort\n",
    "    - Xij = 1 if zi and zj are compared\n",
    "    - Xij = 0 if zi and zj are not compared\n",
    "2. comparing zi to zj\n",
    "- zi and zj are compared if the first element of Zij to be picked as a pivot element is either zi or zj\n",
    "- if zi < x < zj and x is picked first as a pivot, zi and zj are never compared\n",
    "    - zi will be in the left partition\n",
    "    - zj will be in the right partition\n",
    "3. probability of comparing zi to zj\n",
    " - P(zi or zj is the first pivot chosen from Zij) = P(zi is the first pivot chosen from Zij) + P(zh is the first pivot chosen from Zij) = 1/(j + 1 - i) + 1/(j + 1 - i) = 2/(j + 1 - i)\n",
    "3. the number of comparisons made to sort an array is the sum of all Xijs\n",
    " - i ranges from 1 to n - 1\n",
    " - j ranges from i + 1 to n (for all j greater than i)\n",
    "4. the expected number of comparisons is the sum of all the expected values of Xijs\n",
    " - the expected value of Xij is the probability that zi is compared to zj\n",
    "5. plugging values into the sum, we obtain a bound for the series of O(nlog(n)) <br>\n",
    "\n",
    "The expected run time for quickSort() is O(nlog(n))"
   ]
  },
  {
   "cell_type": "markdown",
   "metadata": {},
   "source": [
    "### Theoretical Expected Run Time Using O(nlog(n))\n",
    "Steps to find the theoretical run time with Big O:\n",
    "1. create an X matrix of predictors\n",
    " - create columns of 1, n and nlog(n) where n is the array length\n",
    " - use array lengths of the sample arrays: 3000, 4500, 6000, 7500, 9000, 10500, 12000, 13500\n",
    "2. create a Y matrix of responses\n",
    " - use the sample run times\n",
    "3. use multiple linear regression to get the equation Y = a + bn + cnlog(n)\n",
    " - a, b, and c are ordinary least squares estimated coefficients\n",
    "4. since expected run time of randomized quick sort is O(nlog(n)), theoretical run times are T = a + bn + cnlog(n)\n",
    " - use the coefficients found in multiple linear regression\n",
    " - n represents the length of the array"
   ]
  },
  {
   "cell_type": "code",
   "execution_count": 8,
   "metadata": {},
   "outputs": [],
   "source": [
    "# matrix of predictors\n",
    "X = df[['ones', 'length', 'lengthLogLength']]\n",
    "\n",
    "# fit multiple linear regression\n",
    "resultER = sm.OLS(Y, X).fit()\n",
    "\n",
    "# theoretical coefficients\n",
    "aER = resultER.params[0]\n",
    "bER = resultER.params[1]\n",
    "cER = resultER.params[2]"
   ]
  },
  {
   "cell_type": "markdown",
   "metadata": {},
   "source": [
    "### Ordinary Least Squares Estimated Coefficients of Expected Run Time\n",
    "See below for summary statements regarding the estimated coefficients and their 95% confidence intervals <br>\n",
    "* the coefficients have estimates close to 0, as expected\n",
    "    * coefficients measure changes in run time with small changes in array length, and we expect these changes to be slight\n",
    "    * significant increases in run times occur when there are large changes in array length"
   ]
  },
  {
   "cell_type": "code",
   "execution_count": 9,
   "metadata": {},
   "outputs": [
    {
     "name": "stdout",
     "output_type": "stream",
     "text": [
      "The estimated intercept is 0.303648555. If the size of an array is 0, on average, I expect the run time to be 0.303648555 seconds.\n",
      "I am 95% confident that the true average run time for an array of length 0 is between 0.161924546 and 0.445372563 seconds.\n",
      "The standard error of the intercept is 0.070365806.\n",
      "\n",
      "The estimated coefficent for the n term is -0.000704558. If n by one unit, on average, I expect the run time to increase by -0.000704558 seconds.\n",
      "I am 95% confident that the true expected change in run time for one unit increase in n is between -0.000899661 and -0.000509455 seconds.\n",
      "The standard error of the coefficient for the n term is 0.000096868.\n",
      "\n",
      "The estimated coefficent for the nlog(n) term is 0.000054132. If nlog(n) by one unit, on average, I expect the run time to increase by 0.000054132 seconds.\n",
      "I am 95% confident that the true expected change in run time for one unit increase in nlog(n) is between 0.000040557 and 0.000067707 seconds.\n",
      "The standard error of the coefficient for the nlog(n) term is 0.000006740.\n",
      "\n"
     ]
    }
   ],
   "source": [
    "# variable holding confidence intervals\n",
    "confInt = resultER.conf_int(alpha = 0.05, cols = None)\n",
    "# variable holding standard errors\n",
    "stE = resultER.bse\n",
    "\n",
    "# array of terms\n",
    "terms = ['1', 'n', 'nlog(n)']\n",
    "\n",
    "# print the summaries\n",
    "for i in range(0, 3):\n",
    "    est = '{:10.9f}'.format(resultER.params[i])\n",
    "    lower = '{:10.9f}'.format(confInt[0][i])\n",
    "    upper = '{:10.9f}'.format(confInt[1][i])\n",
    "    se = '{:10.9f}'.format(stE[i])\n",
    "    if i == 0:\n",
    "        estIntercept(est)\n",
    "        CIintercept(lower, upper)\n",
    "        SEintercept(se)  \n",
    "    else:\n",
    "        estTerm(est, terms[i])\n",
    "        CITerm(lower, upper, terms[i])\n",
    "        SEterm(se, terms[i])\n",
    "    print()"
   ]
  },
  {
   "cell_type": "markdown",
   "metadata": {},
   "source": [
    "## Compare Theoretical and Observed Run Tim\n",
    "\n",
    "### Scatterplot\n",
    "I created a scatterplot of the observed run times and the theoretical run times for sorting arrays of different lengths. Theoretical run times for worst case and expected run time are included. \n",
    "* observed run times are plotted in blue, theoretical trend line for worst case run time is drawn in green, theoretical trend line for expected run time is drawn in red\n",
    "* trend lines for theoretical worst case and expected run times are extremely close to each other for these sizes of arrays\n",
    "* observed values are very close to both theoretical trend lines\n",
    "* for arrays of size 3000 to 13,500, the worst case and expected run times are good estimates for the data\n",
    "* observed values are very close to the theoretical trend line, meaning the theoretical run time of O(nlog(n)) is a good estimate for this data\n",
    "* there is a positive relationship between array size and run time"
   ]
  },
  {
   "cell_type": "code",
   "execution_count": 10,
   "metadata": {},
   "outputs": [
    {
     "data": {
      "image/png": "[encoded data removed]",
      "text/plain": [
       "<Figure size 432x288 with 1 Axes>"
      ]
     },
     "metadata": {
      "needs_background": "light"
     },
     "output_type": "display_data"
    }
   ],
   "source": [
    "# possible x values\n",
    "x = np.linspace(3000, 13500, 10500)\n",
    "\n",
    "# regression line equation for worst case run time\n",
    "lineWC = aWC + bWC * x + cWC * (x ** 2)\n",
    "\n",
    "# regression line equation for expected run time\n",
    "lineER = aER + bER * x + cER * x * np.log2(x)\n",
    "\n",
    "plt.scatter(length, times, c = 'b')  # observed values plotted in blue\n",
    "plt.plot(x, lineWC, c = 'g')  # plot regression line equation for worst case in green\n",
    "plt.plot(x, lineER, c = 'r')  # plot regression line for expected run time in red\n",
    "plt.xlabel('Size of Input')\n",
    "plt.ylabel('Time (Seconds)')\n",
    "plt.title('Run Time of Observed and Theoretical O(n^2)')\n",
    "plt.show()"
   ]
  },
  {
   "cell_type": "markdown",
   "metadata": {},
   "source": [
    "### Mean Squared Error\n",
    "- mean squared error measures the squared distance between observed and theoretical values. A small mean squared error indicates observed and theoretical run times are similar\n",
    "- the worst case time complexity for randomized quick sort obtains a MSE that is close to 0\n",
    "- the expected run time for randomized quick sort obtains a MSE that is close to 0\n",
    "- therefore, the worst case time complexity and the expected run time are good estimates\n",
    "- we can estimate the run time of arrays length 3000 to 13,500 with the worst case run time of O(n^2) or the expected run time of O(nlog(n))"
   ]
  },
  {
   "cell_type": "code",
   "execution_count": 11,
   "metadata": {},
   "outputs": [
    {
     "name": "stdout",
     "output_type": "stream",
     "text": [
      "The mean squared error of the equation for the worst case time complexity is 0.001923786.\n",
      "The mean squared error of the equation for the expected run time is 0.002120841.\n"
     ]
    }
   ],
   "source": [
    "# output the worst case MSE\n",
    "MSEwc = '{:10.9f}'.format(resultWC.mse_resid)\n",
    "outputWC = ('The mean squared error of the equation for the worst case time complexity is {x}.').format(x = MSEwc)\n",
    "print(outputWC)\n",
    "\n",
    "# output the expected run time MSE\n",
    "MSEer = '{:10.9f}'.format(resultER.mse_resid)\n",
    "outputER = ('The mean squared error of the equation for the expected run time is {x}.').format(x = MSEer)\n",
    "print(outputER)"
   ]
  },
  {
   "cell_type": "markdown",
   "metadata": {},
   "source": [
    "## Conclusion\n",
    "- run time of randomized quick sort for arrays of length 3000 to 13,500 can be estimated by the worst case O(n^2) or the expected run time O(nlog(n))\n",
    "    - output for both equations are very similar in this range\n",
    "- data obtained from sorting sample arrays supports this conclusion\n",
    "    - on the scatterplot, observed values are very close to both theoretical trend lines\n",
    "    - the mean squared error for both theoretical trend lines is close to 0"
   ]
  },
  {
   "cell_type": "code",
   "execution_count": null,
   "metadata": {},
   "outputs": [],
   "source": []
  }
 ],
 "metadata": {
  "kernelspec": {
   "display_name": "Python 3",
   "language": "python",
   "name": "python3"
  },
  "language_info": {
   "codemirror_mode": {
    "name": "ipython",
    "version": 3
   },
   "file_extension": ".py",
   "mimetype": "text/x-python",
   "name": "python",
   "nbconvert_exporter": "python",
   "pygments_lexer": "ipython3",
   "version": "3.7.1"
  }
 },
 "nbformat": 4,
 "nbformat_minor": 2
}
