{
 "cells": [
  {
   "cell_type": "markdown",
   "metadata": {},
   "source": [
    "# Insertion Sort\n",
    "Insertion sort is an algorithm that sorts elements of an array. The algorithm builds the sorted array one element at a time by moving the ith element of the array to an index where all preceeding elements are smaller than the ith element. It repeats this process for every array element. Insertion sort has a simple implementation; however lots of swap operations are possible for unsorted arrays, which increases run time. <br>\n",
    "\n",
    "Facts about insertion sort:\n",
    "* comparison sorting algorithm: compares elements of an array\n",
    "* stable sorting algorithm: preserves the relative order of equivalent elements\n",
    "* in-place algorithm: has space complexity O(1), meaning it is memory efficient and the sorted array is made locally\n",
    "* adaptive algorithm: run time is affected when given a partially sorted array\n",
    "* deterministic algorithm: when given a certain input, same sequence of steps and result occurs\n",
    "* online algorithm: sorts arrays as received, meaning data downloaded from the internet can be sorted with this algorithm"
   ]
  },
  {
   "cell_type": "code",
   "execution_count": 7,
   "metadata": {},
   "outputs": [
    {
     "name": "stdout",
     "output_type": "stream",
     "text": [
      "importing Jupyter notebook from CIandSETemplate.ipynb\n"
     ]
    }
   ],
   "source": [
    "# global imports\n",
    "from time import time\n",
    "import matplotlib.pyplot as plt\n",
    "from pandas import DataFrame\n",
    "import statsmodels.formula.api as sm\n",
    "import numpy as np\n",
    "import import_ipynb\n",
    "from CIandSETemplate import *"
   ]
  },
  {
   "cell_type": "markdown",
   "metadata": {},
   "source": [
    "## Insertion Sort Function\n",
    "Steps to implement insertion sort function:\n",
    "1. write the function for insertion sort\n",
    " - create a for loop that iterates through the entire array\n",
    " - set j equal to i (the index we are currently iterating over)\n",
    " - while the item before the jth index is greater than the jth index, swap the values at j and j - 1 with the swap function\n",
    " - then set j equal to j - 1 since j - 1 is the new index of the ith element of the initial array\n",
    " - continue this process until the ith element of the initial array is at an index where it is greater than all preceeding items\n",
    " - repeat this process for all elements of the array\n",
    " - return the sorted array\n",
    "2. write the function for swapping values\n",
    " - create a temporary variable to hold i (the larger value)\n",
    " - set the array at index i equal to the value of j (the smaller value)\n",
    " - set the array at index j equal to the value of i (the larger value)"
   ]
  },
  {
   "cell_type": "code",
   "execution_count": 2,
   "metadata": {},
   "outputs": [],
   "source": [
    "# insertion sort function\n",
    "def insertionSort(arr):\n",
    "    '''sorts an array of integers from smallest to largest'''\n",
    "    for i in range(len(arr)):\n",
    "        j = i\n",
    "        while j > 0 and arr[j-1] > arr[j]:\n",
    "            swap(arr, j, j-1)\n",
    "            j = j - 1\n",
    "    return arr\n",
    "\n",
    "# swap function\n",
    "def swap(nums, i, j):\n",
    "    '''swaps the order of two items in an array'''\n",
    "    temp = nums[i]\n",
    "    nums[i] = nums[j]\n",
    "    nums[j] = temp"
   ]
  },
  {
   "cell_type": "markdown",
   "metadata": {},
   "source": [
    "## Timing Function\n",
    "To obtain observed values for the runtime of the algorithm, I wrote a function that times how long it takes for the program to insertion sort an array. Steps to implement the timing function:\n",
    "1. initialize a variable t that will hold the runtime\n",
    "2. set t0 equal to the current time (before sorting)\n",
    "3. sort the array with insertion sort\n",
    "4. set t1 to the current time (after sorting)\n",
    "5. set t equal to the difference between t1 and t0, which is the run time for sorting the array\n",
    "6. return the run time"
   ]
  },
  {
   "cell_type": "code",
   "execution_count": 3,
   "metadata": {},
   "outputs": [],
   "source": [
    "def timeOneInsert(arr):\n",
    "    '''times how long it takes to sort an array'''\n",
    "    t = 0\n",
    "    t0 = time()\n",
    "    s = insertionSort(arr)\n",
    "    t1 = time()\n",
    "    t = t1 - t0\n",
    "    return t"
   ]
  },
  {
   "cell_type": "markdown",
   "metadata": {},
   "source": [
    "## Sort Sample Arrays and Find Run Time\n",
    "1. import arrrays of different lengths. These arrays are created in the arrays program. The arrays are used for each sorting algorithm, allowing for direct comparison of algorithms.\n",
    "2. use timeOneInsert() function to find the run time of sorting each array"
   ]
  },
  {
   "cell_type": "code",
   "execution_count": 4,
   "metadata": {},
   "outputs": [],
   "source": [
    "# import arrays\n",
    "%store -r arr\n",
    "\n",
    "# time how long it takes to sort each array\n",
    "times = []\n",
    "for element in arr:\n",
    "    t = timeOneInsert(element)\n",
    "    times.append(t)"
   ]
  },
  {
   "cell_type": "markdown",
   "metadata": {},
   "source": [
    "## Theoretical Run Time With Big O \n",
    "### Calculate Time Complexity of Insertion Sort Function \n",
    "\n",
    "#### Swap Function Pseudo Code\n",
    "```\n",
    "swap(array, i, j) \n",
    "    temp = array[i]      // C1, repeated once\n",
    "    array[i] = array[j]  // C2, repeated once\n",
    "    array[j] = temp      // C3, repeated once\n",
    "    \n",
    "T = C1 + C2 + C3\n",
    "T = C\n",
    "```\n",
    "\n",
    "#### Insertion Sort Function Pseudo Code\n",
    "```\n",
    "insertionSort(array)\n",
    "    for i in range 0 to n                      // C1, repeated n+1 times\n",
    "        j = i                                  // C2, repeated n times\n",
    "        while j > 0 and array[j-1] > array[j]  // C3, repeated n + ... + 1 = n(n+1)/2 times\n",
    "            swap(array, j, j-1)                // repeated (n-1) + ... + 1 = n(n-1)/2 times with runtime O(1)\n",
    "            j = j-1                            // C4, repeated (n-1) + ... + 1 = n(n-1)/2 times\n",
    "    return array                               // C5, repeated once\n",
    "    \n",
    " T = C1*(n+1) + C2*n + C3*n(n+1)/2 + n(n-1)/2*O(1) + C4*n(n-1)/2 + C5\n",
    " T = C1*n^2 + C2*n + C3\n",
    "```\n",
    "The time complexity for insertion sort is O(n^2)"
   ]
  },
  {
   "cell_type": "markdown",
   "metadata": {},
   "source": [
    "### Use Data to Find Coefficients for Theoretical Time Complexity Function O(n^2)\n",
    "Steps to find the theoretical run time with Big O:\n",
    "1. create an X matrix of predictors\n",
    " - create columns of 1, n, and n^2, where n is the array length\n",
    " - use array lengths of the sample arrays: 3000, 4500, 6000, 7500, 9000, 10500, 12000, 13500\n",
    "2. create a Y matrix of responses\n",
    " - use the sample run times\n",
    "3. use polynomial regression to get the equation Y = a + bn + cn^2\n",
    " - a, b, and c are the ordinary least squares estimated coefficients\n",
    "4. since insertion sort is O(n^2), theoretical run times are T = a + bn + cn^2\n",
    " - use the coefficients found in polynomial linear regression\n",
    " - n represents the length of the array"
   ]
  },
  {
   "cell_type": "code",
   "execution_count": 5,
   "metadata": {},
   "outputs": [],
   "source": [
    "# array of ones\n",
    "ones = [1, 1, 1, 1, 1, 1, 1, 1]\n",
    "\n",
    "# array of lengths\n",
    "length = [3000, 4500, 6000, 7500, 9000, 10500, 12000, 13500]\n",
    "\n",
    "# create an array of the squared lengths\n",
    "squaredLengths = []\n",
    "for i in range(0, 8):\n",
    "    val = length[i] ** 2\n",
    "    squaredLengths.append(val)\n",
    "\n",
    "# create a dataframe\n",
    "Data = {'ones': ones, 'length': length, 'squaredLengths': squaredLengths, 'times': times}\n",
    "df = DataFrame(Data, columns=['ones', 'length', 'squaredLengths', 'times'])\n",
    "# matrix of predictors\n",
    "X = df[['ones', 'length', 'squaredLengths']]\n",
    "# vector of responses\n",
    "Y = df['times']\n",
    "\n",
    "# fit polynomial regression\n",
    "result = sm.OLS(Y, X).fit()\n",
    "\n",
    "# theoretical coefficients\n",
    "a = result.params[0]\n",
    "b = result.params[1]\n",
    "c = result.params[2]"
   ]
  },
  {
   "cell_type": "markdown",
   "metadata": {},
   "source": [
    "### Ordinary Least Squares Estimated Coefficients of Theoretical Time Complexity Function\n",
    "See below for summary statements regarding the estimated coefficients and their 95% confidence intervals <br>\n",
    "* the coefficients have estimates close to 0, as expected\n",
    "    * coefficients measure changes in run time with small changes in array length, and we expect these changes to be slight\n",
    "    * significant increases in run times occur when there are large changes in array length"
   ]
  },
  {
   "cell_type": "code",
   "execution_count": 8,
   "metadata": {},
   "outputs": [
    {
     "name": "stdout",
     "output_type": "stream",
     "text": [
      "The estimated intercept is -0.003142724. If the size of an array is 0, on average, I expect the run time to be -0.003142724 seconds.\n",
      "I am 95% confident that the true average run time for an array of length 0 is between -0.333354887 and 0.327069439 seconds.\n",
      "The standard error of the intercept is 0.128458141.\n",
      "\n",
      "The estimated coefficent for the n term is 0.000015907. If n by one unit, on average, I expect the run time to increase by 0.000015907 seconds.\n",
      "I am 95% confident that the true expected change in run time for one unit increase in n is between -0.000072964 and 0.000104778 seconds.\n",
      "The standard error of the coefficient for the n term is 0.000034572.\n",
      "\n",
      "The estimated coefficent for the n^2 term is 0.000000112. If n^2 by one unit, on average, I expect the run time to increase by 0.000000112 seconds.\n",
      "I am 95% confident that the true expected change in run time for one unit increase in n^2 is between 0.000000106 and 0.000000117 seconds.\n",
      "The standard error of the coefficient for the n^2 term is 0.000000002.\n",
      "\n"
     ]
    }
   ],
   "source": [
    "# variable holding confidence intervals\n",
    "confInt = result.conf_int(alpha = 0.05, cols = None)\n",
    "# variable holding standard errors\n",
    "stE = result.bse\n",
    "\n",
    "# array of terms\n",
    "terms = ['1', 'n', 'n^2']\n",
    "\n",
    "# print the summaries\n",
    "for i in range(0, 3):\n",
    "    est = '{:10.9f}'.format(result.params[i])\n",
    "    lower = '{:10.9f}'.format(confInt[0][i])\n",
    "    upper = '{:10.9f}'.format(confInt[1][i])\n",
    "    se = '{:10.9f}'.format(stE[i])\n",
    "    if i == 0:\n",
    "        estIntercept(est)\n",
    "        CIintercept(lower, upper)\n",
    "        SEintercept(se)  \n",
    "    else:\n",
    "        estTerm(est, terms[i])\n",
    "        CITerm(lower, upper, terms[i])\n",
    "        SEterm(se, terms[i])\n",
    "    print()"
   ]
  },
  {
   "cell_type": "markdown",
   "metadata": {},
   "source": [
    "## Compare Theoretical and Observed Run Time\n",
    "\n",
    "### Scatterplot \n",
    "I created a scatterplot of the observed run times and the theoretical run times for sorting arrays of different lengths. \n",
    "* observed run times are plotted in blue, theoretical trend line is drawn in red\n",
    "* observed values are very close to the theoretical trend line, meaning the theoretical run time of O(n^2) is a good estimate for this data\n",
    "* discrepancies between observed and theoretical run time can be attributed to experimental error\n",
    "* since insertion sort is O(n^2), there is a quadratic relationship between array size and run time"
   ]
  },
  {
   "cell_type": "code",
   "execution_count": 9,
   "metadata": {},
   "outputs": [
    {
     "data": {
      "image/png": "[encoded data removed]",
      "text/plain": [
       "<Figure size 432x288 with 1 Axes>"
      ]
     },
     "metadata": {
      "needs_background": "light"
     },
     "output_type": "display_data"
    }
   ],
   "source": [
    "# regression line equation\n",
    "x = np.linspace(3000, 13500, 10500)\n",
    "line = a + b * x + c * x**2\n",
    "\n",
    "# scatterplot of observed and theoretical O(n^2) values\n",
    "plt.scatter(length, times, c = 'b')  # plot observed values in blue\n",
    "plt.plot(x, line, c = 'r')  # plot regression line equation in red\n",
    "plt.xlabel('Size of Input')\n",
    "plt.ylabel('Time (Seconds)')\n",
    "plt.title('Run Time of Observed and Theoretical O(n^2)')\n",
    "plt.show()"
   ]
  },
  {
   "cell_type": "markdown",
   "metadata": {},
   "source": [
    "### Mean Squared Error\n",
    "- mean squared error measures the squared distance between observed and theoretical values. A small mean squared error indicates the observed and theoretical run times are similar.\n",
    "- insertion sort obtains an MSE that is close to 0, meaning the theoretical run times are a good estimate\n",
    "- this means insertion sort has a run time of O(n^2)"
   ]
  },
  {
   "cell_type": "code",
   "execution_count": 10,
   "metadata": {},
   "outputs": [
    {
     "data": {
      "text/plain": [
       "'0.003614408'"
      ]
     },
     "execution_count": 10,
     "metadata": {},
     "output_type": "execute_result"
    }
   ],
   "source": [
    "# output the MSE\n",
    "MSE = '{:10.9f}'.format(result.mse_resid)\n",
    "MSE"
   ]
  },
  {
   "cell_type": "markdown",
   "metadata": {},
   "source": [
    "## Conclusion\n",
    "- the theoretical run time of insertion sort is O(n^2)\n",
    "- data obtained from sorting sample arrays supports this conclusion\n",
    "    - on the scatterplot, observed values are close to theoretical values\n",
    "    - the mean squared error is close to 0"
   ]
  }
 ],
 "metadata": {
  "kernelspec": {
   "display_name": "Python 3",
   "language": "python",
   "name": "python3"
  },
  "language_info": {
   "codemirror_mode": {
    "name": "ipython",
    "version": 3
   },
   "file_extension": ".py",
   "mimetype": "text/x-python",
   "name": "python",
   "nbconvert_exporter": "python",
   "pygments_lexer": "ipython3",
   "version": "3.7.1"
  }
 },
 "nbformat": 4,
 "nbformat_minor": 2
}
