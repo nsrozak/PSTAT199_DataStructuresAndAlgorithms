{
 "cells": [
  {
   "cell_type": "markdown",
   "metadata": {},
   "source": [
    "# Heap Sort\n",
    "Heap sort orders an array while using binary maximum heap data structures. Binary maximum heap data structures are complete binary trees where the root node is the largest item, and parent nodes are always greater than their children nodes. The array is arranged so the root node has index 0; for parent i: the left child has index 2i + 1, and the right child has index 2i + 2. Heap sort swaps the value of the root (largest item) and the last item of the heap array, decreases the size of the heap array by 1, then rearranges the heap array to be a maximum heap data structure. It repeats this process until a final array is created. Heap sort requires constructing a heap from the numbers we want to sort, which takes additional time. However, overall, heap sort is an efficient sorting algorithm. <br>\n",
    "\n",
    "Facts about heap sort:\n",
    "* comparison sorting algorithm: compares elements of an array\n",
    "* not a stable sorting algorithm: does not preserve the relative order of equivalent elements\n",
    "* in-place algorithm: has space complexity O(1), meaning it is memory efficient and sorted array is made locally\n",
    "* not an adaptive algorithm: the run time is not affected when given a partially sorted array\n",
    "* deterministic algoirthm: when given a certain input, same sequece of steps and result occurs"
   ]
  },
  {
   "cell_type": "code",
   "execution_count": 1,
   "metadata": {},
   "outputs": [
    {
     "name": "stdout",
     "output_type": "stream",
     "text": [
      "importing Jupyter notebook from CIandSETemplate.ipynb\n"
     ]
    }
   ],
   "source": [
    "# global imports\n",
    "from time import time\n",
    "import matplotlib.pyplot as plt\n",
    "import math\n",
    "from pandas import DataFrame\n",
    "import statsmodels.formula.api as sm\n",
    "import numpy as np\n",
    "import import_ipynb\n",
    "from CIandSETemplate import *"
   ]
  },
  {
   "cell_type": "markdown",
   "metadata": {},
   "source": [
    "## Heap Sort Function\n",
    "Steps to implement heap sort function:\n",
    "1. write the function for heap sort\n",
    " - set n to be the length of the array\n",
    " - create a for loop that creates a max heap, iterating from the largest index to the smallest index of the array. In each iteration, heapify the array, starting at index i. Children nodes are heapified first, and the loop moves up to the root node during the last iteration. \n",
    " - create a for loop that sorts the array by extracting the largest element, iterating from the largest index to index 1. The root node (maximum array value) is swapped with the last item of the array, then the heap size is reduced by 1. Then, the array is heapified. \n",
    " - the process continues until the tree does not contain any elements and the array is sorted. \n",
    "\n",
    "2. write the function for heapify\n",
    " - initialize the index of the largest element to be the root\n",
    " - find the indexes of the left and right children of the root\n",
    " - if the left child is larger than the root, set the index of the largest root to be the left index\n",
    " - if the right child is larger than the root, set the index of the largest root to be the right index\n",
    " - if the largest index does not equal the index of the root, swap the root and the larger value\n",
    " - recursively call the heapify() function on the index of the swapped root\n",
    " - this ensures the tree meets the property that parent nodes are larger than their children nodes\n",
    "\n",
    "3. write the function for swapping values\n",
    " - create a temporary variable to hold i (the larger value)\n",
    " - set the array at index i equal to the value of j (the smaller value)\n",
    " - set the array at index j equal to the value of i (the larger value)"
   ]
  },
  {
   "cell_type": "code",
   "execution_count": 2,
   "metadata": {},
   "outputs": [],
   "source": [
    "# heap sort function\n",
    "def heapSort(arr):\n",
    "    '''sorts an array of integers from smallest to largest'''\n",
    "    n = len(arr)\n",
    "    for i in range(n-1, -1, -1):\n",
    "        heapify(arr, n, i)\n",
    "    for i in range(n - 1, 0, -1):\n",
    "        swap(arr, i, 0)\n",
    "        heapify(arr, i, 0)\n",
    "\n",
    "# heapify function\n",
    "def heapify(arr, n, i):\n",
    "    '''turns an array into a heap'''\n",
    "    largest = i\n",
    "    left = 2 * i + 1\n",
    "    right = 2 * i + 2\n",
    "    if left < n and arr[largest] < arr[left]:\n",
    "        largest = left\n",
    "    if right < n and arr[largest] < arr[right]:\n",
    "        largest = right\n",
    "    if largest != i:\n",
    "        swap(arr, i, largest)\n",
    "        heapify(arr, n, largest)\n",
    "        \n",
    "# swap function\n",
    "def swap(nums, i, j):\n",
    "    '''swaps the order of two items in an array'''\n",
    "    temp = nums[i]\n",
    "    nums[i] = nums[j]\n",
    "    nums[j] = temp"
   ]
  },
  {
   "cell_type": "markdown",
   "metadata": {},
   "source": [
    "## Timing Function\n",
    "To obtain observed values for the runtime of the algorithm, I wrote a function that times how long it takes for the program to heap sort an array. Steps to implement the timing function:\n",
    "1. initialize a variable t that will hold the runtime\n",
    "2. set t0 equal to the current time (before sorting)\n",
    "3. sort the array with heap sort\n",
    "4. set t1 to the current time (after sorting)\n",
    "5. set t equal to the difference between t1 and t0, which is the run time for sorting the array\n",
    "6. return the run time"
   ]
  },
  {
   "cell_type": "code",
   "execution_count": 3,
   "metadata": {},
   "outputs": [],
   "source": [
    "def timeOneHeap(arr):\n",
    "    '''times how long it takes to sort an array'''\n",
    "    t = 0\n",
    "    t0 = time()\n",
    "    s = heapSort(arr)\n",
    "    t1 = time()\n",
    "    t = t1 - t0\n",
    "    return t"
   ]
  },
  {
   "cell_type": "markdown",
   "metadata": {},
   "source": [
    "## Sort Sample Arrays and Find Run Time\n",
    "1. import arrrays of different lengths. These arrays are created in the arrays program. The arrays are used for each sorting algorithm, allowing for direct comparison of algorithms.\n",
    "2. use timeOneHeap() function to find the run time of sorting each array"
   ]
  },
  {
   "cell_type": "code",
   "execution_count": 4,
   "metadata": {},
   "outputs": [],
   "source": [
    "# import arrays\n",
    "%store -r arr\n",
    "\n",
    "# time how long it takes to sort each array\n",
    "times = []\n",
    "for element in arr:\n",
    "    t = timeOneHeap(element)\n",
    "    times.append(t)"
   ]
  },
  {
   "cell_type": "markdown",
   "metadata": {},
   "source": [
    "## Theoretical Run Time with Big O\n",
    "### Calculate Time Complexity of Heap Sort Function\n",
    "\n",
    "#### Swap Function Pseudo Code\n",
    "\n",
    "```\n",
    "swap(array, i, j) \n",
    "    temp = array[i]      // C1, repeated once\n",
    "    array[i] = array[j]  // C2, repeated once\n",
    "    array[j] = temp      // C3, repeated once\n",
    "    \n",
    "T = C1 + C2 + C3\n",
    "T = C\n",
    "```\n",
    "\n",
    "#### Heapify Function Pseudo Code\n",
    "\n",
    "```\n",
    "heapify(array, n, i)\n",
    "\tlargest = i                                     // C1, repeated once\n",
    "\tleft = 2 * i + 1                                // C2, repeated once\n",
    "\tright = 2 * i + 2                               // C3, repeated once\n",
    "\tif left < n and array[largest] < array[left]    // C4, repeated once\n",
    "\t\tlargest = left\n",
    "\tif right < n and array[largest] < array[right]  // C5, repeated once\n",
    "\t\tlargest = right\n",
    "\tif largest != i                                 // C6, repeated once\n",
    "\t\tswap(array, i, largest)                     // repeated once in runtime O(1)\n",
    "\t\theapify(array, n, largest)                  // repeated once in runtime T(n/2)\n",
    "        \n",
    "T = C1 + C2 + C3 + C4 + C5 + C6 + O(1) + T(n/2) \n",
    "T = T(n/2) + C\n",
    "```\n",
    "\n",
    "- since this is a recurrence relationship, use Master Theorem to find time complexity\n",
    "    - A = 1, B = 2, C = 0\n",
    "    - log2(1) = 0, so C = log2(1)\n",
    "    - then T(n) = O(n^Clog(n)) = O(log(n))\n",
    "\n",
    "```\n",
    "T = C1*logn + C2\n",
    "```\n",
    "\n",
    "\n",
    "#### Heap Sort Function Pseudo Code\n",
    "```\n",
    "heapSort(array)\n",
    "\tn = len(array)                 // C1, repeated once\n",
    "\tfor i in range(n - 1, -1, -1)  // C2, repeated n + 1 times\n",
    "\t\theapify(array, n, i)       // C3, repeated n times with runtime T(n/2)\n",
    "\tfor i in range(n - 1, 0, -1)   // C4, repeated n + 1 times\n",
    "\t\tswap(arr, i, 0)            // C5, repeated n times\n",
    "\t\theapify(array, i, 0)       // C6, repeated n times with runtime T(n/2)\n",
    "        \n",
    "T = C1 + C2*(n + 1) + C3*n*T(n/2) + C4*(n + 1) + C5*n + C6*n*T(n/2)\n",
    "T = C1*n*T(n/2) + C2*n + C3\n",
    "T = C1*nlogn + C2*n + C3\n",
    "```\n",
    "\n",
    "The time complexity for heap sort is nlog(n)"
   ]
  },
  {
   "cell_type": "markdown",
   "metadata": {},
   "source": [
    "### Use Data to Find Coefficients for Theoretical Time Complexity Function O(nlog(n))\n",
    "Steps to find the theoretical run time with Big O:\n",
    "1. create an X matrix of predictors\n",
    " - create columns of 1, n and nlog(n) where n is the array length\n",
    " - use array lengths of the sample arrays: 3000, 4500, 6000, 7500, 9000, 10500, 12000, 13500\n",
    "2. create a Y matrix of responses\n",
    " - use the sample run times\n",
    "3. use multiple linear regression to get the equation Y = a + bn + cnlog(n)\n",
    " - a, b, and c are ordinary least squares estimated coefficients\n",
    "4. since heap sort is O(nlog(n)), theoretical run times are T = a + bn + cnlog(n)\n",
    " - use the coefficients found in multiple linear regression\n",
    " - n represents the length of the array"
   ]
  },
  {
   "cell_type": "code",
   "execution_count": 5,
   "metadata": {},
   "outputs": [],
   "source": [
    "# array of ones\n",
    "ones = [1, 1, 1, 1, 1, 1, 1, 1]\n",
    "\n",
    "# array of lengths\n",
    "length = [3000, 4500, 6000, 7500, 9000, 10500, 12000, 13500]\n",
    "\n",
    "# create array of lengthLogLength\n",
    "lengthLogLength = []\n",
    "for i in range(0, 8):\n",
    "    val = length[i] * math.log2(length[i])\n",
    "    lengthLogLength.append(val)\n",
    "\n",
    "# create a dataframe\n",
    "Data = {'ones': ones, 'length': length, 'lengthLogLength': lengthLogLength, 'times': times}\n",
    "df = DataFrame(Data, columns=['ones', 'length', 'lengthLogLength', 'times'])\n",
    "# matrix of predictors\n",
    "X = df[['ones', 'length', 'lengthLogLength']]\n",
    "# vector of responses\n",
    "Y = df['times']\n",
    "\n",
    "# fit multiple linear regression\n",
    "result = sm.OLS(Y, X).fit()\n",
    "\n",
    "# theoretical coefficients\n",
    "a = result.params[0]\n",
    "b = result.params[1]\n",
    "c = result.params[2]"
   ]
  },
  {
   "cell_type": "markdown",
   "metadata": {},
   "source": [
    "### Ordinary Least Squares Estimated Coefficients of Theoretical Time Complexity Function\n",
    "See below for summary statements regarding the estimated coefficients and their 95% confidence intervals <br>\n",
    "* the coefficients have estimates close to 0, as expected\n",
    "    * coefficients measure changes in run time with small changes in array length, and we expect these changes to be slight\n",
    "    * significant increases in run times occur when there are large changes in array length"
   ]
  },
  {
   "cell_type": "code",
   "execution_count": 6,
   "metadata": {},
   "outputs": [
    {
     "name": "stdout",
     "output_type": "stream",
     "text": [
      "The estimated intercept is 0.012450179. If the size of an array is 0, on average, I expect the run time to be 0.012450179 seconds.\n",
      "I am 95% confident that the true average run time for an array of length 0 is between 0.002394832 and 0.022505527 seconds.\n",
      "The standard error of the intercept is 0.003911701.\n",
      "\n",
      "The estimated coefficent for the n term is -0.000017612. If n by one unit, on average, I expect the run time to increase by -0.000017612 seconds.\n",
      "I am 95% confident that the true expected change in run time for one unit increase in n is between -0.000031455 and -0.000003769 seconds.\n",
      "The standard error of the coefficient for the n term is 0.000005385.\n",
      "\n",
      "The estimated coefficent for the nlog2(n) term is 0.000001999. If nlog2(n) by one unit, on average, I expect the run time to increase by 0.000001999 seconds.\n",
      "I am 95% confident that the true expected change in run time for one unit increase in nlog2(n) is between 0.000001036 and 0.000002962 seconds.\n",
      "The standard error of the coefficient for the nlog2(n) term is 0.000000375.\n",
      "\n"
     ]
    }
   ],
   "source": [
    "# variable holding confidence intervals\n",
    "confInt = result.conf_int(alpha = 0.05, cols = None)\n",
    "# variable holding standard errors\n",
    "stE = result.bse\n",
    "\n",
    "# array of terms\n",
    "terms = ['1', 'n', 'nlog2(n)']\n",
    "\n",
    "# print the summaries\n",
    "for i in range(0, 3):\n",
    "    est = '{:10.9f}'.format(result.params[i])\n",
    "    lower = '{:10.9f}'.format(confInt[0][i])\n",
    "    upper = '{:10.9f}'.format(confInt[1][i])\n",
    "    se = '{:10.9f}'.format(stE[i])\n",
    "    if i == 0:\n",
    "        estIntercept(est)\n",
    "        CIintercept(lower, upper)\n",
    "        SEintercept(se)  \n",
    "    else:\n",
    "        estTerm(est, terms[i])\n",
    "        CITerm(lower, upper, terms[i])\n",
    "        SEterm(se, terms[i])\n",
    "    print()"
   ]
  },
  {
   "cell_type": "markdown",
   "metadata": {},
   "source": [
    "## Compare Theoretical and Observed Time\n",
    "\n",
    "### Scatterplot\n",
    "\n",
    "I created a scatterplot of the observed run times and the theoretical run times for sorting arrays of different lengths.\n",
    "\n",
    " - observed run times are plotted in blue, theoretical trend line is drawn in red\n",
    " - observed values are very close to the theoretical trend line, meaning the theoretical run time of O(nlog(n)) is a good estimate for this data\n",
    " - discrepancies between observed and theoretical run time may be caused by experimental error: heap sort orders arrays very quickly, meaning any delay encountered by the computer significantly impacts observed results\n",
    " - there is a positive relationship between array size and run time\n",
    " "
   ]
  },
  {
   "cell_type": "code",
   "execution_count": 7,
   "metadata": {
    "scrolled": true
   },
   "outputs": [
    {
     "data": {
      "image/png": "[encoded data removed]",
      "text/plain": [
       "<Figure size 432x288 with 1 Axes>"
      ]
     },
     "metadata": {
      "needs_background": "light"
     },
     "output_type": "display_data"
    }
   ],
   "source": [
    "# regression line equation\n",
    "x = np.linspace(3000, 13500, 10500)\n",
    "line = a + b * x + c * x * np.log2(x)\n",
    "\n",
    "# scatterplot of observed and theoretical O(n^2) values\n",
    "plt.scatter(length, times, c = 'b')  # plot observed values in blue\n",
    "plt.plot(x, line, c = 'r')  # plot regression line equation in red\n",
    "plt.xlabel('Size of Input')\n",
    "plt.ylabel('Time (Seconds)')\n",
    "plt.title('Run Time of Observed and Theoretical O(nlog(n))')\n",
    "plt.show()"
   ]
  },
  {
   "cell_type": "markdown",
   "metadata": {},
   "source": [
    "### Mean Squared Error\n",
    "- mean squared error measures the squared distance between observed and theoretical values. A small mean squared error indicates observed and theoretical run times are similar\n",
    "- heap sort obtains an MSE that is close to 0, meaning the theoretical run times are a good estimate\n",
    "- this means heap sort has a run time of O(nlog(n))"
   ]
  },
  {
   "cell_type": "code",
   "execution_count": 8,
   "metadata": {},
   "outputs": [
    {
     "data": {
      "text/plain": [
       "'0.000001092'"
      ]
     },
     "execution_count": 8,
     "metadata": {},
     "output_type": "execute_result"
    }
   ],
   "source": [
    "# output the MSE\n",
    "MSE = '{:10.9f}'.format(result.mse_resid)\n",
    "MSE"
   ]
  },
  {
   "cell_type": "markdown",
   "metadata": {},
   "source": [
    "## Conclusion\n",
    " - the theoretical run time of heap sort is O(nlog(n))\n",
    " - data obtained from sorting sample arrays supports this conclusion\n",
    "    - on the scatterplot, observed values are close to theoretical values\n",
    "    - the mean squared error is close to 0\n"
   ]
  },
  {
   "cell_type": "code",
   "execution_count": null,
   "metadata": {},
   "outputs": [],
   "source": []
  }
 ],
 "metadata": {
  "kernelspec": {
   "display_name": "Python 3",
   "language": "python",
   "name": "python3"
  },
  "language_info": {
   "codemirror_mode": {
    "name": "ipython",
    "version": 3
   },
   "file_extension": ".py",
   "mimetype": "text/x-python",
   "name": "python",
   "nbconvert_exporter": "python",
   "pygments_lexer": "ipython3",
   "version": "3.7.1"
  }
 },
 "nbformat": 4,
 "nbformat_minor": 2
}
