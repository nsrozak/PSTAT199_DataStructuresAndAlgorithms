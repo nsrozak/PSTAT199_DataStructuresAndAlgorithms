{
 "cells": [
  {
   "cell_type": "markdown",
   "metadata": {},
   "source": [
    "# Arrays Used for Comparing Sorting Algorithms"
   ]
  },
  {
   "cell_type": "code",
   "execution_count": 1,
   "metadata": {},
   "outputs": [],
   "source": [
    "# imports\n",
    "from random import randint"
   ]
  },
  {
   "cell_type": "markdown",
   "metadata": {},
   "source": [
    "## Function for Creating Arrays"
   ]
  },
  {
   "cell_type": "code",
   "execution_count": 2,
   "metadata": {},
   "outputs": [],
   "source": [
    "# create an array\n",
    "def createArray(length, maxint):\n",
    "    newArr = []\n",
    "    for i in range(0, length):\n",
    "        val = randint(0, maxint)\n",
    "        newArr.append(val)\n",
    "    return newArr"
   ]
  },
  {
   "cell_type": "markdown",
   "metadata": {},
   "source": [
    "## Create Different Arrays\n",
    "Use array function to create arrays of different sizes. Store arrays so they can be used in other programs (for finding runtime of sorting algorithms). "
   ]
  },
  {
   "cell_type": "code",
   "execution_count": 3,
   "metadata": {},
   "outputs": [
    {
     "name": "stdout",
     "output_type": "stream",
     "text": [
      "Stored 'arrq' (list)\n"
     ]
    }
   ],
   "source": [
    "# array of different lengths \n",
    "diffLengths = [3000, 4500, 6000, 7500, 9000, 10500, 12000, 13500]\n",
    "# array of arrays\n",
    "arrq = []\n",
    "# create arrays\n",
    "for i in diffLengths:\n",
    "    for j in range(0, 6):\n",
    "        array = createArray(i, 50)\n",
    "        arrq.append(array)\n",
    "# store array\n",
    "%store arrq"
   ]
  },
  {
   "cell_type": "code",
   "execution_count": null,
   "metadata": {},
   "outputs": [],
   "source": []
  }
 ],
 "metadata": {
  "kernelspec": {
   "display_name": "Python 3",
   "language": "python",
   "name": "python3"
  },
  "language_info": {
   "codemirror_mode": {
    "name": "ipython",
    "version": 3
   },
   "file_extension": ".py",
   "mimetype": "text/x-python",
   "name": "python",
   "nbconvert_exporter": "python",
   "pygments_lexer": "ipython3",
   "version": "3.7.1"
  }
 },
 "nbformat": 4,
 "nbformat_minor": 2
}
