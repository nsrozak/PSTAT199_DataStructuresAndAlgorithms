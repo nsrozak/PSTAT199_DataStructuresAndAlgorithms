{
 "cells": [
  {
   "cell_type": "markdown",
   "metadata": {},
   "source": [
    "# Selection Sort\n",
    "Selection sort is an algorithm that sorts elements of an array. The algorithm divides the input into two parts: a subarray of sorted items, and a subarray of items still needing to be sorted. In each iteration, the function finds the smallest element from the unsorted part and swaps this element with the leftmost unsorted element. Then, the subarray boundary is moved one element to the right and the process repeats itself until the list is sorted in ascending order. Selection sort is simple; in some scenarios, it outperforms more complicated algorithms. For example, selection sort is very fast at sorting arrays with small lengths (like 20 items). <br>\n",
    "Facts about selection sort:\n",
    "* comparison sorting algorithm: compares elements of an array\n",
    "* not a stable sorting algorithm: does not preserve relative order of equivalent elements\n",
    "* in-place sorting algorithm: has space complexity O(1), meaning it is memory efficient and sorted array is made locally\n",
    "* not an adaptive algorithm: the run time is not affected when given a partially sorted array\n",
    "* deterministic algorithm: when given a certain input, sane sequence of steps and result occurs"
   ]
  },
  {
   "cell_type": "code",
   "execution_count": 1,
   "metadata": {},
   "outputs": [
    {
     "name": "stdout",
     "output_type": "stream",
     "text": [
      "importing Jupyter notebook from CIandSETemplate.ipynb\n"
     ]
    }
   ],
   "source": [
    "# global imports\n",
    "from time import time\n",
    "import matplotlib.pyplot as plt\n",
    "from pandas import DataFrame\n",
    "import statsmodels.formula.api as sm\n",
    "import numpy as np\n",
    "import import_ipynb\n",
    "from CIandSETemplate import *"
   ]
  },
  {
   "cell_type": "markdown",
   "metadata": {},
   "source": [
    "## Selection Sort Function\n",
    "Steps to implement selection sort function:\n",
    "1. write the function for selection sort\n",
    " - create a for loop that iterates through the entire array\n",
    " - create a variable index. This variable will hold the index of the smallest unsorted element. To initialize it, set index equal to i (the index of the first unsorted item in the array) \n",
    " - create a nested for loop that iterates through the unsorted elements of the array: from i+1 to the end of the array\n",
    " - if the jth element is less than the indexed element, set index equal to j\n",
    " - after iterating through all of the insorted elements, index is equal to the smallest unsorted element\n",
    " - if the index of the smallest unsorted element is not i (the index of the first unsorted element in the array), swap these elements using the swap function\n",
    " - repeat this process for the next iteration of the outer for loop\n",
    " - return the sorted array\n",
    "2. write the function for swapping values\n",
    " - create a temporary variable to hold i (the larger value)\n",
    " - set the array at index i equal to the value of j (the smaller value)\n",
    " - set the array at index j equal to the value of i (the larger value)"
   ]
  },
  {
   "cell_type": "code",
   "execution_count": 2,
   "metadata": {},
   "outputs": [],
   "source": [
    "# selection sort function\n",
    "def selectionSort(arr):\n",
    "    '''sorts an array of integers from smallest to largest'''\n",
    "    for i in range(0, len(arr)-1):\n",
    "        index = i\n",
    "        for j in range(i+1, len(arr), 1):\n",
    "            if arr[j] < arr[index]:\n",
    "                index = j\n",
    "        if index != i:\n",
    "            swap(arr, index, i)\n",
    "    return arr\n",
    "            \n",
    "# swap function\n",
    "def swap(nums, i, j):\n",
    "    '''swaps the order of two items in an array'''\n",
    "    temp = nums[i]\n",
    "    nums[i] = nums[j]\n",
    "    nums[j] = temp"
   ]
  },
  {
   "cell_type": "markdown",
   "metadata": {},
   "source": [
    "## Timing Function\n",
    "To obtain observed values for the runtime of the algorithm, I wrote a function that times how long it takes for the program to selection sort an array. Steps to implement the timing function:\n",
    "1. initialize a variable t that will hold the runtime\n",
    "2. set t0 equal to the current time (before sorting)\n",
    "3. sort the array with selection sort\n",
    "4. set t1 to the current time (after sorting)\n",
    "5. set t equal to the difference between t1 and t0, which is the run time for sorting the array\n",
    "6. return the run time"
   ]
  },
  {
   "cell_type": "code",
   "execution_count": 3,
   "metadata": {},
   "outputs": [],
   "source": [
    "# time the sort\n",
    "def timeOneSelect(arr):\n",
    "    '''times how long it takes to sort an array'''\n",
    "    t = 0\n",
    "    t0 = time()\n",
    "    s = selectionSort(arr)\n",
    "    t1 = time()\n",
    "    t = t1 - t0\n",
    "    return t"
   ]
  },
  {
   "cell_type": "markdown",
   "metadata": {},
   "source": [
    "## Sort Sample Arrays and Find Run Time\n",
    "1. import arrrays of different lengths. These arrays are created in the arrays program. The arrays are used for each sorting algorithm, allowing for direct comparison of algorithms.\n",
    "2. use timeOneSelect() function to find the run time of sorting each array"
   ]
  },
  {
   "cell_type": "code",
   "execution_count": 4,
   "metadata": {},
   "outputs": [],
   "source": [
    "# import arrays\n",
    "%store -r arr\n",
    "\n",
    "# time how long it takes to sort each array\n",
    "times = []\n",
    "for element in arr:\n",
    "    t = timeOneSelect(element)\n",
    "    times.append(t)"
   ]
  },
  {
   "cell_type": "markdown",
   "metadata": {},
   "source": [
    "## Theoretical Run Time With Big O\n",
    "\n",
    "### Time Complexity of Selection Sort Function\n",
    "Observe the selection sort function(see above). \n",
    "1. the outer for loop executes n times\n",
    " - it iterates n-1 times and checks an additional time to see that the next value of i is not in the range\n",
    "2. statements inside the outer for loop execute n-1 times\n",
    "3. for the worst case scenario, the inner for loop executes n + (n-1) + ... + 1 times\n",
    " - by arithmatic sequences properties, this is equivalent to n(n+1)/2. Expanding, we get (1/2)(n^2 + n)\n",
    " - it runs through the inner for loop (n-1) + ... + 1 times and checks an additional time to see that the next value of j is not in the range\n",
    "4. statements inside the inner for loop execute (n-1) + (n-2) + ... + 1 times\n",
    " - by arithmatic sequences properties, this is equivalent to n(n-1)/2. Expanding, we get (1/2)(n^2 - n)\n",
    "5. all other statements execute 1 time\n",
    "6. sum the times for all statements to get T = an^2 + bn + c\n",
    "7. the fastest growing term is an^2, so n^2 goes in the O() expression <br>\n",
    "\n",
    "The time complexity for selection sort is O(n^2)"
   ]
  },
  {
   "cell_type": "markdown",
   "metadata": {},
   "source": [
    "### Theoretical Time Complexity Using O(n^2)\n",
    "Steps to find the theoretical run time with Big O:\n",
    "1. create an X matrix of predictors\n",
    " - create columns of 1, n, and n^2, where n is the array length\n",
    " - use array lengths of the sample arrays: 3000, 4500, 6000, 7500, 9000, 10500, 12000, 13500\n",
    "2. create a Y matrix of responses\n",
    " - use the sample run times\n",
    "3. use polynomial regression to get the equation Y = a + bn + cn^2\n",
    " - a, b, and c are the ordinary least squares estimated coefficients\n",
    "4. since selection sort is O(n^2), theoretical run times are T = a + bn + cn^2\n",
    " - use the coefficients found in polynomial linear regression\n",
    " - n represents the length of the array"
   ]
  },
  {
   "cell_type": "code",
   "execution_count": 5,
   "metadata": {},
   "outputs": [],
   "source": [
    "# array of ones\n",
    "ones = [1, 1, 1, 1, 1, 1, 1, 1]\n",
    "\n",
    "# array of lengths\n",
    "length = [3000, 4500, 6000, 7500, 9000, 10500, 12000, 13500]\n",
    "\n",
    "# create an array of the squared lengths\n",
    "squaredLengths = []\n",
    "for i in range(0, 8):\n",
    "    val = length[i] ** 2\n",
    "    squaredLengths.append(val)\n",
    "\n",
    "# create a dataframe\n",
    "Data = {'ones': ones, 'length': length, 'squaredLengths': squaredLengths, 'times': times}\n",
    "df = DataFrame(Data, columns=['ones', 'length', 'squaredLengths', 'times'])\n",
    "# matrix of predictors\n",
    "X = df[['ones', 'length', 'squaredLengths']]\n",
    "# vector of responses\n",
    "Y = df['times']\n",
    "\n",
    "# fit polynomial regression\n",
    "result = sm.OLS(Y, X).fit()\n",
    "\n",
    "# theoretical coefficients\n",
    "a = result.params[0]\n",
    "b = result.params[1]\n",
    "c = result.params[2]"
   ]
  },
  {
   "cell_type": "markdown",
   "metadata": {},
   "source": [
    "### Ordinary Least Squares Estimated Coefficients\n",
    "See below for summary statements regarding the estimated coefficients and their 95% confidence intervals <br>\n",
    "* the coefficients have estimates close to 0, as expected\n",
    "    * coefficients measure changes in run time with small changes in array length, and we expect these changes to be slight\n",
    "    * significant increases in run times occur when there are large changes in array length"
   ]
  },
  {
   "cell_type": "code",
   "execution_count": 6,
   "metadata": {},
   "outputs": [
    {
     "name": "stdout",
     "output_type": "stream",
     "text": [
      "The estimated intercept is -1.353865639. If the size of an array is 0, on average, I expect the run time to be -1.353865639 seconds.\n",
      "I am 95% confident that the true average run time for an array of length 0 is between -5.260577127 and 2.552845849 seconds.\n",
      "The standard error of the intercept is 1.519777131.\n",
      "\n",
      "The estimated coefficent for the n term is 0.000392737. If n by one unit, on average, I expect the run time to increase by 0.000392737 seconds.\n",
      "I am 95% confident that the true expected change in run time for one unit increase in n is between -0.000658686 and 0.001444160 seconds.\n",
      "The standard error of the coefficient for the n term is 0.000409021.\n",
      "\n",
      "The estimated coefficent for the n^2 term is 0.000000038. If n^2 by one unit, on average, I expect the run time to increase by 0.000000038 seconds.\n",
      "I am 95% confident that the true expected change in run time for one unit increase in n^2 is between -0.000000025 and 0.000000101 seconds.\n",
      "The standard error of the coefficient for the n^2 term is 0.000000024.\n",
      "\n"
     ]
    }
   ],
   "source": [
    "# variable holding confidence intervals\n",
    "confInt = result.conf_int(alpha = 0.05, cols = None)\n",
    "# variable holding standard errors\n",
    "stE = result.bse\n",
    "\n",
    "# array of terms\n",
    "terms = ['1', 'n', 'n^2']\n",
    "\n",
    "# print the summaries\n",
    "for i in range(0, 3):\n",
    "    est = '{:10.9f}'.format(result.params[i])\n",
    "    lower = '{:10.9f}'.format(confInt[0][i])\n",
    "    upper = '{:10.9f}'.format(confInt[1][i])\n",
    "    se = '{:10.9f}'.format(stE[i])\n",
    "    if i == 0:\n",
    "        estIntercept(est)\n",
    "        CIintercept(lower, upper)\n",
    "        SEintercept(se)  \n",
    "    else:\n",
    "        estTerm(est, terms[i])\n",
    "        CITerm(lower, upper, terms[i])\n",
    "        SEterm(se, terms[i])\n",
    "    print()"
   ]
  },
  {
   "cell_type": "markdown",
   "metadata": {},
   "source": [
    "## Compare Theoretical and Observed Run Time\n",
    "I created a scatterplot of the observed run times and the theoretical run times for sorting arrays of different lengths.\n",
    "* observed run times are plotted in blue, theoretical trend line is drawn in red\n",
    "* observed values are very close to the theoretical trend line, meaning the theoretical run time of O(n^2) is a good estimate for this data\n",
    "* discrepancies between observed and theoretical run time can be attributed to experimental error\n",
    "* since selection sort is O(n^2), there is a quadratic relationship between array size and run time"
   ]
  },
  {
   "cell_type": "code",
   "execution_count": 7,
   "metadata": {},
   "outputs": [
    {
     "data": {
      "image/png": "[encoded data removed]",
      "text/plain": [
       "<Figure size 432x288 with 1 Axes>"
      ]
     },
     "metadata": {
      "needs_background": "light"
     },
     "output_type": "display_data"
    }
   ],
   "source": [
    "# regression line equation\n",
    "x = np.linspace(3000, 13500, 10500)\n",
    "line = a + b * x + c * x**2\n",
    "\n",
    "# scatterplot of observed and theoretical O(n^2) values\n",
    "plt.scatter(length, times, c = 'b')  # plot observed values in blue\n",
    "plt.plot(x, line, c = 'r')  # plot regression line equation in red\n",
    "plt.xlabel('Size of Input')\n",
    "plt.ylabel('Time (Seconds)')\n",
    "plt.title('Run Time of Observed and Theoretical O(n^2)')\n",
    "plt.show()"
   ]
  },
  {
   "cell_type": "markdown",
   "metadata": {},
   "source": [
    "### Mean Squared Error\n",
    "- mean squared error measures the squared distance between observed and theoretical values. A small mean squared error indicates observed and theoretical run times are similar\n",
    "- selection sort obtains an MSE that is close to 0, meaning the theoretical run times are a good estimate\n",
    "- this means selection sort has a run time of O(n^2)"
   ]
  },
  {
   "cell_type": "code",
   "execution_count": 8,
   "metadata": {},
   "outputs": [
    {
     "data": {
      "text/plain": [
       "'0.505910541'"
      ]
     },
     "execution_count": 8,
     "metadata": {},
     "output_type": "execute_result"
    }
   ],
   "source": [
    "# output the MSE\n",
    "MSE = '{:10.9f}'.format(result.mse_resid)\n",
    "MSE"
   ]
  },
  {
   "cell_type": "markdown",
   "metadata": {},
   "source": [
    "## Conclusion\n",
    " - the theoretical run time of selection sort is O(n^2)\n",
    " - data obtained from sorting sample arrays supports this conclusion\n",
    "    - on the scatterplot, observed values are close to theoretical values\n",
    "    - the mean squared error is close to 0"
   ]
  },
  {
   "cell_type": "code",
   "execution_count": null,
   "metadata": {},
   "outputs": [],
   "source": []
  }
 ],
 "metadata": {
  "kernelspec": {
   "display_name": "Python 3",
   "language": "python",
   "name": "python3"
  },
  "language_info": {
   "codemirror_mode": {
    "name": "ipython",
    "version": 3
   },
   "file_extension": ".py",
   "mimetype": "text/x-python",
   "name": "python",
   "nbconvert_exporter": "python",
   "pygments_lexer": "ipython3",
   "version": "3.7.1"
  }
 },
 "nbformat": 4,
 "nbformat_minor": 2
}
