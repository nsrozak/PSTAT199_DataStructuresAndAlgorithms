{
 "cells": [
  {
   "cell_type": "markdown",
   "metadata": {},
   "source": [
    "# Arrays Used for Comparing Sorting Algorithms"
   ]
  },
  {
   "cell_type": "code",
   "execution_count": 1,
   "metadata": {},
   "outputs": [],
   "source": [
    "# imports\n",
    "from random import randint"
   ]
  },
  {
   "cell_type": "markdown",
   "metadata": {},
   "source": [
    "## Function for Creating Arrays"
   ]
  },
  {
   "cell_type": "code",
   "execution_count": 2,
   "metadata": {},
   "outputs": [],
   "source": [
    "# create an array\n",
    "def createArray(length, maxint):\n",
    "    newArr = []\n",
    "    for i in range(0, length):\n",
    "        val = randint(0, maxint)\n",
    "        newArr.append(val)\n",
    "    return newArr"
   ]
  },
  {
   "cell_type": "markdown",
   "metadata": {},
   "source": [
    "## Create Different Arrays\n",
    "Use array function to create arrays of different sizes. Store arrays so they can be used in other programs (for finding runtime of sorting algorithms). \n",
    "### Arrays of Length 3000"
   ]
  },
  {
   "cell_type": "code",
   "execution_count": 3,
   "metadata": {},
   "outputs": [
    {
     "name": "stdout",
     "output_type": "stream",
     "text": [
      "Stored 'q3arr1' (list)\n"
     ]
    }
   ],
   "source": [
    "# create and store first array of length 3000\n",
    "q3arr1 = createArray(3000, 50)\n",
    "%store q3arr1"
   ]
  },
  {
   "cell_type": "code",
   "execution_count": 4,
   "metadata": {},
   "outputs": [
    {
     "name": "stdout",
     "output_type": "stream",
     "text": [
      "Stored 'q3arr2' (list)\n"
     ]
    }
   ],
   "source": [
    "# create and store second array of length 3000\n",
    "q3arr2 = createArray(3000, 50)\n",
    "%store q3arr2"
   ]
  },
  {
   "cell_type": "code",
   "execution_count": 5,
   "metadata": {},
   "outputs": [
    {
     "name": "stdout",
     "output_type": "stream",
     "text": [
      "Stored 'q3arr3' (list)\n"
     ]
    }
   ],
   "source": [
    "# create and store third array of length 3000\n",
    "q3arr3 = createArray(3000, 50)\n",
    "%store q3arr3"
   ]
  },
  {
   "cell_type": "code",
   "execution_count": 6,
   "metadata": {},
   "outputs": [
    {
     "name": "stdout",
     "output_type": "stream",
     "text": [
      "Stored 'q3arr4' (list)\n"
     ]
    }
   ],
   "source": [
    "# create and store fourth array of length 3000\n",
    "q3arr4 = createArray(3000, 50)\n",
    "%store q3arr4"
   ]
  },
  {
   "cell_type": "code",
   "execution_count": 7,
   "metadata": {
    "scrolled": true
   },
   "outputs": [
    {
     "name": "stdout",
     "output_type": "stream",
     "text": [
      "Stored 'q3arr5' (list)\n"
     ]
    }
   ],
   "source": [
    "# create and store fifth array of length 3000\n",
    "q3arr5 = createArray(3000, 50)\n",
    "%store q3arr5"
   ]
  },
  {
   "cell_type": "code",
   "execution_count": 8,
   "metadata": {},
   "outputs": [
    {
     "name": "stdout",
     "output_type": "stream",
     "text": [
      "Stored 'q3arr6' (list)\n"
     ]
    }
   ],
   "source": [
    "# create and store sixth array of length 3000\n",
    "q3arr6 = createArray(3000, 50)\n",
    "%store q3arr6"
   ]
  },
  {
   "cell_type": "markdown",
   "metadata": {},
   "source": [
    "### Arrays of Length 4500"
   ]
  },
  {
   "cell_type": "code",
   "execution_count": 9,
   "metadata": {},
   "outputs": [
    {
     "name": "stdout",
     "output_type": "stream",
     "text": [
      "Stored 'q45arr1' (list)\n"
     ]
    }
   ],
   "source": [
    "# create and store first array of length 4500\n",
    "q45arr1 = createArray(4500, 50)\n",
    "%store q45arr1"
   ]
  },
  {
   "cell_type": "code",
   "execution_count": 10,
   "metadata": {},
   "outputs": [
    {
     "name": "stdout",
     "output_type": "stream",
     "text": [
      "Stored 'q45arr2' (list)\n"
     ]
    }
   ],
   "source": [
    "# create and store second array of length 4500\n",
    "q45arr2 = createArray(4500, 50)\n",
    "%store q45arr2"
   ]
  },
  {
   "cell_type": "code",
   "execution_count": 11,
   "metadata": {},
   "outputs": [
    {
     "name": "stdout",
     "output_type": "stream",
     "text": [
      "Stored 'q45arr3' (list)\n"
     ]
    }
   ],
   "source": [
    "# create and store third array of length 4500\n",
    "q45arr3 = createArray(4500, 50)\n",
    "%store q45arr3"
   ]
  },
  {
   "cell_type": "code",
   "execution_count": 12,
   "metadata": {},
   "outputs": [
    {
     "name": "stdout",
     "output_type": "stream",
     "text": [
      "Stored 'q45arr4' (list)\n"
     ]
    }
   ],
   "source": [
    "# create and store fourth array of length 4500\n",
    "q45arr4 = createArray(4500, 50)\n",
    "%store q45arr4"
   ]
  },
  {
   "cell_type": "code",
   "execution_count": 13,
   "metadata": {},
   "outputs": [
    {
     "name": "stdout",
     "output_type": "stream",
     "text": [
      "Stored 'q45arr5' (list)\n"
     ]
    }
   ],
   "source": [
    "# create and store fifth array of length 4500\n",
    "q45arr5 = createArray(4500, 50)\n",
    "%store q45arr5"
   ]
  },
  {
   "cell_type": "code",
   "execution_count": 14,
   "metadata": {},
   "outputs": [
    {
     "name": "stdout",
     "output_type": "stream",
     "text": [
      "Stored 'q45arr6' (list)\n"
     ]
    }
   ],
   "source": [
    "# create and store sixth array of length 4500\n",
    "q45arr6 = createArray(4500, 50)\n",
    "%store q45arr6"
   ]
  },
  {
   "cell_type": "markdown",
   "metadata": {},
   "source": [
    "### Arrays of Length 6000"
   ]
  },
  {
   "cell_type": "code",
   "execution_count": 15,
   "metadata": {},
   "outputs": [
    {
     "name": "stdout",
     "output_type": "stream",
     "text": [
      "Stored 'q6arr1' (list)\n"
     ]
    }
   ],
   "source": [
    "# create and store first array of length 6000\n",
    "q6arr1 = createArray(6000, 50)\n",
    "%store q6arr1"
   ]
  },
  {
   "cell_type": "code",
   "execution_count": 16,
   "metadata": {},
   "outputs": [
    {
     "name": "stdout",
     "output_type": "stream",
     "text": [
      "Stored 'q6arr2' (list)\n"
     ]
    }
   ],
   "source": [
    "# create and store second array of length 6000\n",
    "q6arr2 = createArray(6000, 50)\n",
    "%store q6arr2"
   ]
  },
  {
   "cell_type": "code",
   "execution_count": 17,
   "metadata": {},
   "outputs": [
    {
     "name": "stdout",
     "output_type": "stream",
     "text": [
      "Stored 'q6arr3' (list)\n"
     ]
    }
   ],
   "source": [
    "# create and store third array of length 6000\n",
    "q6arr3 = createArray(6000, 50)\n",
    "%store q6arr3"
   ]
  },
  {
   "cell_type": "code",
   "execution_count": 18,
   "metadata": {},
   "outputs": [
    {
     "name": "stdout",
     "output_type": "stream",
     "text": [
      "Stored 'q6arr4' (list)\n"
     ]
    }
   ],
   "source": [
    "# create and store fourth array of length 6000\n",
    "q6arr4 = createArray(6000, 50)\n",
    "%store q6arr4"
   ]
  },
  {
   "cell_type": "code",
   "execution_count": 19,
   "metadata": {},
   "outputs": [
    {
     "name": "stdout",
     "output_type": "stream",
     "text": [
      "Stored 'q6arr5' (list)\n"
     ]
    }
   ],
   "source": [
    "# create and store fifth array of length 6000\n",
    "q6arr5 = createArray(6000, 50)\n",
    "%store q6arr5"
   ]
  },
  {
   "cell_type": "code",
   "execution_count": 20,
   "metadata": {},
   "outputs": [
    {
     "name": "stdout",
     "output_type": "stream",
     "text": [
      "Stored 'q6arr6' (list)\n"
     ]
    }
   ],
   "source": [
    "# create and store sixth array of length 6000\n",
    "q6arr6 = createArray(6000, 50)\n",
    "%store q6arr6"
   ]
  },
  {
   "cell_type": "markdown",
   "metadata": {},
   "source": [
    "### Arrays of Length 7500"
   ]
  },
  {
   "cell_type": "code",
   "execution_count": 21,
   "metadata": {},
   "outputs": [
    {
     "name": "stdout",
     "output_type": "stream",
     "text": [
      "Stored 'q75arr1' (list)\n"
     ]
    }
   ],
   "source": [
    "# create and store first array of length 7500\n",
    "q75arr1 = createArray(7500, 50)\n",
    "%store q75arr1"
   ]
  },
  {
   "cell_type": "code",
   "execution_count": 22,
   "metadata": {},
   "outputs": [
    {
     "name": "stdout",
     "output_type": "stream",
     "text": [
      "Stored 'q75arr2' (list)\n"
     ]
    }
   ],
   "source": [
    "# create and store second array of length 7500\n",
    "q75arr2 = createArray(7500, 50)\n",
    "%store q75arr2"
   ]
  },
  {
   "cell_type": "code",
   "execution_count": 23,
   "metadata": {},
   "outputs": [
    {
     "name": "stdout",
     "output_type": "stream",
     "text": [
      "Stored 'q75arr3' (list)\n"
     ]
    }
   ],
   "source": [
    "# create and store third array of length 7500\n",
    "q75arr3 = createArray(7500, 50)\n",
    "%store q75arr3"
   ]
  },
  {
   "cell_type": "code",
   "execution_count": 24,
   "metadata": {},
   "outputs": [
    {
     "name": "stdout",
     "output_type": "stream",
     "text": [
      "Stored 'q75arr4' (list)\n"
     ]
    }
   ],
   "source": [
    "# create and store fourth array of length 7500\n",
    "q75arr4 = createArray(7500, 50)\n",
    "%store q75arr4"
   ]
  },
  {
   "cell_type": "code",
   "execution_count": 25,
   "metadata": {},
   "outputs": [
    {
     "name": "stdout",
     "output_type": "stream",
     "text": [
      "Stored 'q75arr5' (list)\n"
     ]
    }
   ],
   "source": [
    "# create and store fifth array of length 7500\n",
    "q75arr5 = createArray(7500, 50)\n",
    "%store q75arr5"
   ]
  },
  {
   "cell_type": "code",
   "execution_count": 26,
   "metadata": {},
   "outputs": [
    {
     "name": "stdout",
     "output_type": "stream",
     "text": [
      "Stored 'q75arr6' (list)\n"
     ]
    }
   ],
   "source": [
    "# create and store sixth array of length 7500\n",
    "q75arr6 = createArray(7500, 50)\n",
    "%store q75arr6"
   ]
  },
  {
   "cell_type": "markdown",
   "metadata": {},
   "source": [
    "### Arrays of Length 9000"
   ]
  },
  {
   "cell_type": "code",
   "execution_count": 27,
   "metadata": {},
   "outputs": [
    {
     "name": "stdout",
     "output_type": "stream",
     "text": [
      "Stored 'q9arr1' (list)\n"
     ]
    }
   ],
   "source": [
    "# create and store first array of length 9000\n",
    "q9arr1 = createArray(9000, 50)\n",
    "%store q9arr1"
   ]
  },
  {
   "cell_type": "code",
   "execution_count": 28,
   "metadata": {},
   "outputs": [
    {
     "name": "stdout",
     "output_type": "stream",
     "text": [
      "Stored 'q9arr2' (list)\n"
     ]
    }
   ],
   "source": [
    "# create and store second array of length 9000\n",
    "q9arr2 = createArray(9000, 50)\n",
    "%store q9arr2"
   ]
  },
  {
   "cell_type": "code",
   "execution_count": 29,
   "metadata": {},
   "outputs": [
    {
     "name": "stdout",
     "output_type": "stream",
     "text": [
      "Stored 'q9arr3' (list)\n"
     ]
    }
   ],
   "source": [
    "# create and store third array of length 9000\n",
    "q9arr3 = createArray(9000, 50)\n",
    "%store q9arr3"
   ]
  },
  {
   "cell_type": "code",
   "execution_count": 30,
   "metadata": {},
   "outputs": [
    {
     "name": "stdout",
     "output_type": "stream",
     "text": [
      "Stored 'q9arr4' (list)\n"
     ]
    }
   ],
   "source": [
    "# create and store fourth array of length 9000\n",
    "q9arr4 = createArray(9000, 50)\n",
    "%store q9arr4"
   ]
  },
  {
   "cell_type": "code",
   "execution_count": 31,
   "metadata": {},
   "outputs": [
    {
     "name": "stdout",
     "output_type": "stream",
     "text": [
      "Stored 'q9arr5' (list)\n"
     ]
    }
   ],
   "source": [
    "# create and store fifth array of length 9000\n",
    "q9arr5 = createArray(9000, 50)\n",
    "%store q9arr5"
   ]
  },
  {
   "cell_type": "code",
   "execution_count": 32,
   "metadata": {},
   "outputs": [
    {
     "name": "stdout",
     "output_type": "stream",
     "text": [
      "Stored 'q9arr6' (list)\n"
     ]
    }
   ],
   "source": [
    "# create and store sixth array of length 9000\n",
    "q9arr6 = createArray(9000, 50)\n",
    "%store q9arr6"
   ]
  },
  {
   "cell_type": "markdown",
   "metadata": {},
   "source": [
    "### Arrays of Length 10500"
   ]
  },
  {
   "cell_type": "code",
   "execution_count": 33,
   "metadata": {},
   "outputs": [
    {
     "name": "stdout",
     "output_type": "stream",
     "text": [
      "Stored 'q105arr1' (list)\n"
     ]
    }
   ],
   "source": [
    "# create and store first array of length 10500\n",
    "q105arr1 = createArray(10500, 50)\n",
    "%store q105arr1"
   ]
  },
  {
   "cell_type": "code",
   "execution_count": 34,
   "metadata": {},
   "outputs": [
    {
     "name": "stdout",
     "output_type": "stream",
     "text": [
      "Stored 'q105arr2' (list)\n"
     ]
    }
   ],
   "source": [
    "# create and store second array of length 10500\n",
    "q105arr2 = createArray(10500, 50)\n",
    "%store q105arr2"
   ]
  },
  {
   "cell_type": "code",
   "execution_count": 35,
   "metadata": {},
   "outputs": [
    {
     "name": "stdout",
     "output_type": "stream",
     "text": [
      "Stored 'q105arr3' (list)\n"
     ]
    }
   ],
   "source": [
    "# create and store third array of length 10500\n",
    "q105arr3 = createArray(10500, 50)\n",
    "%store q105arr3"
   ]
  },
  {
   "cell_type": "code",
   "execution_count": 36,
   "metadata": {},
   "outputs": [
    {
     "name": "stdout",
     "output_type": "stream",
     "text": [
      "Stored 'q105arr4' (list)\n"
     ]
    }
   ],
   "source": [
    "# create and store fourth array of length 10500\n",
    "q105arr4 = createArray(10500, 50)\n",
    "%store q105arr4"
   ]
  },
  {
   "cell_type": "code",
   "execution_count": 37,
   "metadata": {},
   "outputs": [
    {
     "name": "stdout",
     "output_type": "stream",
     "text": [
      "Stored 'q105arr5' (list)\n"
     ]
    }
   ],
   "source": [
    "# create and store fifth array of length 10500\n",
    "q105arr5 = createArray(10500, 50)\n",
    "%store q105arr5"
   ]
  },
  {
   "cell_type": "code",
   "execution_count": 38,
   "metadata": {},
   "outputs": [
    {
     "name": "stdout",
     "output_type": "stream",
     "text": [
      "Stored 'q105arr6' (list)\n"
     ]
    }
   ],
   "source": [
    "# create and store sixth array of length 10500\n",
    "q105arr6 = createArray(10500, 50)\n",
    "%store q105arr6"
   ]
  },
  {
   "cell_type": "markdown",
   "metadata": {},
   "source": [
    "### Arrays of Length 12000"
   ]
  },
  {
   "cell_type": "code",
   "execution_count": 39,
   "metadata": {},
   "outputs": [
    {
     "name": "stdout",
     "output_type": "stream",
     "text": [
      "Stored 'q120arr1' (list)\n"
     ]
    }
   ],
   "source": [
    "# create and store first array of length 12000\n",
    "q120arr1 = createArray(12000, 50)\n",
    "%store q120arr1"
   ]
  },
  {
   "cell_type": "code",
   "execution_count": 40,
   "metadata": {},
   "outputs": [
    {
     "name": "stdout",
     "output_type": "stream",
     "text": [
      "Stored 'q120arr2' (list)\n"
     ]
    }
   ],
   "source": [
    "# create and store second array of length 12000\n",
    "q120arr2 = createArray(12000, 50)\n",
    "%store q120arr2"
   ]
  },
  {
   "cell_type": "code",
   "execution_count": 41,
   "metadata": {},
   "outputs": [
    {
     "name": "stdout",
     "output_type": "stream",
     "text": [
      "Stored 'q120arr3' (list)\n"
     ]
    }
   ],
   "source": [
    "# create and store third array of length 12000\n",
    "q120arr3 = createArray(12000, 50)\n",
    "%store q120arr3"
   ]
  },
  {
   "cell_type": "code",
   "execution_count": 42,
   "metadata": {},
   "outputs": [
    {
     "name": "stdout",
     "output_type": "stream",
     "text": [
      "Stored 'q120arr4' (list)\n"
     ]
    }
   ],
   "source": [
    "# create and store fourth array of length 12000\n",
    "q120arr4 = createArray(12000, 50)\n",
    "%store q120arr4"
   ]
  },
  {
   "cell_type": "code",
   "execution_count": 43,
   "metadata": {},
   "outputs": [
    {
     "name": "stdout",
     "output_type": "stream",
     "text": [
      "Stored 'q120arr5' (list)\n"
     ]
    }
   ],
   "source": [
    "# create and store fifth array of length 12000\n",
    "q120arr5 = createArray(12000, 50)\n",
    "%store q120arr5"
   ]
  },
  {
   "cell_type": "code",
   "execution_count": 44,
   "metadata": {},
   "outputs": [
    {
     "name": "stdout",
     "output_type": "stream",
     "text": [
      "Stored 'q120arr6' (list)\n"
     ]
    }
   ],
   "source": [
    "# create and store sixth array of length 12000\n",
    "q120arr6 = createArray(12000, 50)\n",
    "%store q120arr6"
   ]
  },
  {
   "cell_type": "markdown",
   "metadata": {},
   "source": [
    "### Arrays of Length 13500"
   ]
  },
  {
   "cell_type": "code",
   "execution_count": 45,
   "metadata": {},
   "outputs": [
    {
     "name": "stdout",
     "output_type": "stream",
     "text": [
      "Stored 'q135arr1' (list)\n"
     ]
    }
   ],
   "source": [
    "# create and store first array of length 13500\n",
    "q135arr1 = createArray(13500, 50)\n",
    "%store q135arr1"
   ]
  },
  {
   "cell_type": "code",
   "execution_count": 46,
   "metadata": {},
   "outputs": [
    {
     "name": "stdout",
     "output_type": "stream",
     "text": [
      "Stored 'q135arr2' (list)\n"
     ]
    }
   ],
   "source": [
    "# create and store second array of length 13500\n",
    "q135arr2 = createArray(13500, 50)\n",
    "%store q135arr2"
   ]
  },
  {
   "cell_type": "code",
   "execution_count": 47,
   "metadata": {},
   "outputs": [
    {
     "name": "stdout",
     "output_type": "stream",
     "text": [
      "Stored 'q135arr3' (list)\n"
     ]
    }
   ],
   "source": [
    "# create and store third array of length 13500\n",
    "q135arr3 = createArray(13500, 50)\n",
    "%store q135arr3"
   ]
  },
  {
   "cell_type": "code",
   "execution_count": 48,
   "metadata": {},
   "outputs": [
    {
     "name": "stdout",
     "output_type": "stream",
     "text": [
      "Stored 'q135arr4' (list)\n"
     ]
    }
   ],
   "source": [
    "# create and store fourth array of length 13500\n",
    "q135arr4 = createArray(13500, 50)\n",
    "%store q135arr4"
   ]
  },
  {
   "cell_type": "code",
   "execution_count": 49,
   "metadata": {},
   "outputs": [
    {
     "name": "stdout",
     "output_type": "stream",
     "text": [
      "Stored 'q135arr5' (list)\n"
     ]
    }
   ],
   "source": [
    "# create and store fifth array of length 13500\n",
    "q135arr5 = createArray(13500, 50)\n",
    "%store q135arr5"
   ]
  },
  {
   "cell_type": "code",
   "execution_count": 50,
   "metadata": {},
   "outputs": [
    {
     "name": "stdout",
     "output_type": "stream",
     "text": [
      "Stored 'q135arr6' (list)\n"
     ]
    }
   ],
   "source": [
    "# create and store sixth array of length 13500\n",
    "q135arr6 = createArray(13500, 50)\n",
    "%store q135arr6"
   ]
  },
  {
   "cell_type": "code",
   "execution_count": null,
   "metadata": {},
   "outputs": [],
   "source": []
  }
 ],
 "metadata": {
  "kernelspec": {
   "display_name": "Python 3",
   "language": "python",
   "name": "python3"
  },
  "language_info": {
   "codemirror_mode": {
    "name": "ipython",
    "version": 3
   },
   "file_extension": ".py",
   "mimetype": "text/x-python",
   "name": "python",
   "nbconvert_exporter": "python",
   "pygments_lexer": "ipython3",
   "version": "3.7.1"
  }
 },
 "nbformat": 4,
 "nbformat_minor": 2
}
