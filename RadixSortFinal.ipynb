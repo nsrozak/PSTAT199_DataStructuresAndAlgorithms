{
 "cells": [
  {
   "cell_type": "markdown",
   "metadata": {},
   "source": [
    "# Radix Sort \n",
    "Radix sort is an algorithm that orders an array digit by digit. It starts by arranging elements in numerical order according to their value at the ones digit place. Then, it sorts numbers by their value at the tens digit place. This process continues until the numbers are sorted according to the highest digit of the largest element of the array. A sorted array is returned. Radix sort is an efficient sorting algorithm. <br>\n",
    "\n",
    "Facts about radix sort:\n",
    " - non-comparison sorting algorithm: sorts elements according to individual characters\n",
    " - stable sorting algorthim: preserves relative order of equivalent elements\n",
    " - not an in-place algorithm: has space complexity O(n) where n is the number of elements in the array\n",
    " - not an adaptive algorithm: the run time is not affected when given a partially sorted array\n",
    " - deterministic algorithm: when given a certain input, same sequece of steps and result occurs "
   ]
  },
  {
   "cell_type": "code",
   "execution_count": 1,
   "metadata": {},
   "outputs": [
    {
     "name": "stdout",
     "output_type": "stream",
     "text": [
      "importing Jupyter notebook from CIandSETemplate.ipynb\n"
     ]
    }
   ],
   "source": [
    "# global imports\n",
    "from time import time\n",
    "import matplotlib.pyplot as plt\n",
    "import matplotlib.pyplot as plt\n",
    "from pandas import DataFrame\n",
    "import statsmodels.formula.api as sm\n",
    "import numpy as np\n",
    "import import_ipynb\n",
    "from CIandSETemplate import *"
   ]
  },
  {
   "cell_type": "markdown",
   "metadata": {},
   "source": [
    "## Radix Sort Function\n",
    "Steps to implement radix sort function:\n",
    "1. write the function for radix sort\n",
    " - set a variable equal to the maximum value of the array (used later with regards to number of digits of array elements). \n",
    " - create a variable exp that represents the current digit place we are considering when sorting. Set this variable equal to 1 since we will first consider the 1s place. \n",
    " - create a while loop that runs when there are still digit places needing to be considered\n",
    "     - first the ones place is considered, then the tens, then the hundreds, ... \n",
    "     - sort the array according to the current digit place\n",
    "     - increase the considered digit place by 1\n",
    "\n",
    "2. write the function for counting sort\n",
    " - create a for loop that iterates through the given array, counting the number of elements at the considered digits place that have a certain value (0, 1, ..., 9)\n",
    "     - store the counts in an array\n",
    "     - for example, if the 10s digit place is being considered and 972 is passed to the loop, the count array at index 7 increases by 1\n",
    " - create a for loop that iterates through the array of counts, summing the counts of each index\n",
    "     - each index holds the number of array elements with digit values less than or equal to the value of the index\n",
    "     - the final index (9) will contain n (the length of the array) since there are n elements in the given array with digit values less than or equal to 9\n",
    " - create a while loop that runs through all indexes of the given array\n",
    "     - insert each value of the given array into the correct index of the sorted array \n",
    "     - choose the sorted array index based on the number of unsorted elements that have the same value at the considered digit place\n",
    "     - decrease the array of counts by 1 at the index of the given array's digit value\n",
    "         - after this iteration, there is one less unsorted element with that value\n",
    " - create a for loop that sets the given array equal to the sorted array"
   ]
  },
  {
   "cell_type": "code",
   "execution_count": 2,
   "metadata": {},
   "outputs": [],
   "source": [
    "# radix sort function\n",
    "def radixSort(arr):\n",
    "    '''sorts an array of integers from smallest to largest'''\n",
    "    max1 = max(arr)\n",
    "    exp = 1\n",
    "    while max1//exp > 0:\n",
    "        countingSort(arr, exp)\n",
    "        exp *= 10\n",
    "\n",
    "# counting sort function\n",
    "def countingSort(arr, exp1):\n",
    "    '''sorts an array of integers from the smallest to largest ith digit place'''\n",
    "    n = len(arr)\n",
    "    sortedArr = [0] * n\n",
    "    countArr = [0] * 10\n",
    "    for i in range(0, n):\n",
    "        index = arr[i]//exp1\n",
    "        countArr[index%10] += 1\n",
    "    for i in range(1, 10):\n",
    "        countArr[i] += countArr[i-1]\n",
    "    i = n - 1\n",
    "    while i >= 0:\n",
    "        index = arr[i]//exp1\n",
    "        sortedArr[countArr[index%10] - 1] = arr[i]\n",
    "        countArr[index%10] -= 1\n",
    "        i -= 1\n",
    "    for i in range(0, len(arr)):\n",
    "        arr[i] = sortedArr[i]"
   ]
  },
  {
   "cell_type": "markdown",
   "metadata": {},
   "source": [
    "## Timing Function\n",
    "To obtain observed values for the runtime of the algorithm, I wrote a function that times how long it takes for the program to quick sort an array. Steps to implement the timing function:\n",
    "1. initialize a variable t that will hold the runtime\n",
    "2. set t0 equal to the current time (before sorting)\n",
    "3. sort the array with radix sort\n",
    "4. set t1 to the current time (after sorting)\n",
    "5. set t equal to the difference between t1 and t0, which is the run time for sorting the array\n",
    "6. return the run time"
   ]
  },
  {
   "cell_type": "code",
   "execution_count": 3,
   "metadata": {},
   "outputs": [],
   "source": [
    "def timeOneRadix(arr):\n",
    "    '''times how long it takes to sort an array'''\n",
    "    t = 0\n",
    "    t0 = time()\n",
    "    s = radixSort(arr)\n",
    "    t1 = time()\n",
    "    t = t1 - t0\n",
    "    return t"
   ]
  },
  {
   "cell_type": "markdown",
   "metadata": {},
   "source": [
    "## Sort Sample Arrays and Find Run Time\n",
    "1. import arrrays of different lengths. These arrays are created in the arrays program. The arrays are used for each sorting algorithm, allowing for direct comparison of algorithms.\n",
    "2. use timeOneRadix() function to find the run time of sorting each array"
   ]
  },
  {
   "cell_type": "code",
   "execution_count": 4,
   "metadata": {},
   "outputs": [],
   "source": [
    "# import arrays\n",
    "%store -r arr\n",
    "\n",
    "# time how long it takes to sort each array\n",
    "times = []\n",
    "for element in arr:\n",
    "    t = timeOneRadix(element)\n",
    "    times.append(t)"
   ]
  },
  {
   "cell_type": "markdown",
   "metadata": {},
   "source": [
    "## Theoretical Run Time With Big O\n",
    "### Calculate Time Complexity of Radix Sort Function\n",
    "#### Counting Sort Function Pseudo Code\n",
    "```\n",
    "def countingSort(array, exp1):\n",
    "    n = len(array)                                    // C1, repeated once\n",
    "\tsortedArr = [0] * n                               // C2, repeated once\n",
    "\tcountArr = [0] * 10                               // C3, repeated once\n",
    "    for i in range(0, n)                              // C4, repeated n+1 times\n",
    "        index = array[i]//exp1                        // C5, repeated n times\n",
    "        countArr[index%10] += 1                       // C6, repeated n times\n",
    "    for i in range(1, 10)                             // C7, repeated 11 times\n",
    "        countArr[i] += countArr[i-1]                  // C8, repeated 10 times\n",
    "    i = n - 1                                         // C9, repeated once\n",
    "    while i >= 0                                      // C10, repeated n+1 times\n",
    "        index = array[i] // exp1                      // C11, repeated n times\n",
    "        sortedArr[countArr[index%10] - 1] = array[i]  // C12, repeated n times\n",
    "        countArr[index%10] -= 1                       // C13, repeated n times\n",
    "        i -= 1                                        // C14, repeated n times\n",
    "    for i in range(0, len(array))                     // C15, repeated n+1 times\n",
    "        array[i] = sortedArr[i]                       // C16, repeated n times\n",
    "        \n",
    "T = C1 + C2 + C3 + C4*(n+1) + C5*n + C6*n + C7*11 + C8*10 + C9 + C10*(n+1) + C11*n + C12*n + C13*n + C14*n + C15*(n+1) + C16*n\n",
    "T = C1*n + C2\n",
    "```\n",
    "\n",
    "#### Radix Sort Function Pseudo Code\n",
    "- k is the number of digits of the largest integer\n",
    "    - k can be regarded as a constant since the number of digits is small relative to the size of a number \n",
    "    \n",
    "```\n",
    "def radixSort(array):\n",
    "    max1 = max(array)           // C1, repeated once\n",
    "    exp = 1                     // C2, repeated once\n",
    "    while max1//exp > 0:        // C3, repeated k+1 times\n",
    "        countingSort(arr, exp)  // C4, repeated k times with runtime O(n)\n",
    "        exp *= 10               // C5, repeated k times\n",
    "        \n",
    "T = C1 + C2 + C3(k+1) + C4*k*O(n) + C5*k\n",
    "T = C1*k*n + C2*k + C3\n",
    "T = C1*n + C2\n",
    "```\n",
    "\n",
    "The time complexity of radix sort is O(n)"
   ]
  },
  {
   "cell_type": "markdown",
   "metadata": {},
   "source": [
    "### Use Data to Find Coefficients for Theoretical Time Complexity Function O(n)\n",
    "Steps to find the theoretical run time with Big O:\n",
    "1. create an X matrix of predictors\n",
    " - create columns of 1 and n where n is the array length\n",
    " - use array lengths of the sample arrays: 3000, 4500, 6000, 7500, 9000, 10500, 12000, 13500\n",
    "2. create a Y matrix of responses\n",
    " - use the sample run times\n",
    "3. use multiple linear regression to get the equation Y = a + bn\n",
    " - a and b are ordinary least squares estimated coefficients\n",
    "4. since radix sort is O(n), theoretical run times are T = a + bn \n",
    " - use the coefficients found in multiple linear regression\n",
    " - n represents the length of the array"
   ]
  },
  {
   "cell_type": "code",
   "execution_count": 5,
   "metadata": {},
   "outputs": [],
   "source": [
    "# array of ones\n",
    "ones = [1, 1, 1, 1, 1, 1, 1, 1]\n",
    "\n",
    "# array of lengths\n",
    "length = [3000, 4500, 6000, 7500, 9000, 10500, 12000, 13500]\n",
    "\n",
    "# create a dataframe\n",
    "Data = {'ones': ones, 'length': length, 'times': times}\n",
    "df = DataFrame(Data, columns=['ones', 'length','times'])\n",
    "# matrix of predictors\n",
    "X = df[['ones', 'length']]\n",
    "# vector of responses\n",
    "Y = df['times']\n",
    "\n",
    "# fit multiple linear regression\n",
    "result = sm.OLS(Y, X).fit()\n",
    "\n",
    "# theoretical coefficients\n",
    "a = result.params[0]\n",
    "b = result.params[1]"
   ]
  },
  {
   "cell_type": "markdown",
   "metadata": {},
   "source": [
    "### Ordinary Least Squares Estimated Coefficients\n",
    "See below for summary statements regarding the estimated coefficients and their 95% confidence intervals <br>\n",
    "* the coefficients have estimates close to 0, as expected\n",
    "    * coefficients measure changes in run time with small changes in array length, and we expect these changes to be slight\n",
    "    * significant increases in run times occur when there are large changes in array length"
   ]
  },
  {
   "cell_type": "code",
   "execution_count": 6,
   "metadata": {},
   "outputs": [
    {
     "name": "stdout",
     "output_type": "stream",
     "text": [
      "The estimated intercept is 0.004534579. If the size of an array is 0, on average, I expect the run time to be 0.004534579 seconds.\n",
      "I am 95% confident that the true average run time for an array of length 0 is between 0.000873955 and 0.008195203 seconds.\n",
      "The standard error of the intercept is 0.001496018.\n",
      "\n",
      "The estimated coefficent for the n term is 0.000001022. If n by one unit, on average, I expect the run time to increase by 0.000001022 seconds.\n",
      "I am 95% confident that the true expected change in run time for one unit increase in n is between 0.000000612 and 0.000001432 seconds.\n",
      "The standard error of the coefficient for the n term is 0.000000167.\n",
      "\n"
     ]
    }
   ],
   "source": [
    "# variable holding confidence intervals\n",
    "confInt = result.conf_int(alpha = 0.05, cols = None)\n",
    "# variable holding standard errors\n",
    "stE = result.bse\n",
    "\n",
    "# array of terms\n",
    "terms = ['1', 'n']\n",
    "\n",
    "# print the summaries\n",
    "for i in range(0, 2):\n",
    "    est = '{:10.9f}'.format(result.params[i])\n",
    "    lower = '{:10.9f}'.format(confInt[0][i])\n",
    "    upper = '{:10.9f}'.format(confInt[1][i])\n",
    "    se = '{:10.9f}'.format(stE[i])\n",
    "    if i == 0:\n",
    "        estIntercept(est)\n",
    "        CIintercept(lower, upper)\n",
    "        SEintercept(se)  \n",
    "    else:\n",
    "        estTerm(est, terms[i])\n",
    "        CITerm(lower, upper, terms[i])\n",
    "        SEterm(se, terms[i])\n",
    "    print()"
   ]
  },
  {
   "cell_type": "markdown",
   "metadata": {},
   "source": [
    "## Compare Theoretical and Observed Values\n",
    "\n",
    "### Scatterplot\n",
    "I created a scatterplot of the observed run times and the theoretical run times for sorting arrays of different lengths. (See below) <br>\n",
    "Interpreting the scatterplot:\n",
    "* observed run times are plotted in blue, theoretical trend line is drawn in red\n",
    "* observed values are very close to the theoretical trend line, meaning the theoretical run time of O(n) is a good estimate for this data\n",
    "* discrepancies between observed and theoretical run time may be caused by experimental error: radix sort orders arrays very quickly, meaning any delay encountered by the computer significantly impacts observed results\n",
    "* since radix sort is O(n), there is a linear relationship between array size and run time"
   ]
  },
  {
   "cell_type": "code",
   "execution_count": 7,
   "metadata": {},
   "outputs": [
    {
     "data": {
      "image/png": "[encoded data removed]",
      "text/plain": [
       "<Figure size 432x288 with 1 Axes>"
      ]
     },
     "metadata": {
      "needs_background": "light"
     },
     "output_type": "display_data"
    }
   ],
   "source": [
    "# regression line equation\n",
    "x = np.linspace(3000, 13500, 10500)\n",
    "line = a + b * x\n",
    "\n",
    "# scatterplot of observed and theoretical O(n^2) values\n",
    "plt.scatter(length, times, c = 'b')  # plot observed values in blue\n",
    "plt.plot(x, line, c = 'r')  # plot regression line equation in red\n",
    "plt.xlabel('Size of Input')\n",
    "plt.ylabel('Time (Seconds)')\n",
    "plt.title('Run Time of Observed and Theoretical O(nlog(n))')\n",
    "plt.show()"
   ]
  },
  {
   "cell_type": "markdown",
   "metadata": {},
   "source": [
    "### Mean Squared Error\n",
    " - mean squared error measures the squared distance between observed and theoretical values. A small mean squared error indicates the observed and theoretical run times are similar. \n",
    " - radix sort obtains an MSE that is close to 0, meaning the theoretical run times are a good estimate\n",
    " - this means radix sort has a run time of O(n)"
   ]
  },
  {
   "cell_type": "code",
   "execution_count": 8,
   "metadata": {},
   "outputs": [
    {
     "data": {
      "text/plain": [
       "'0.000002648'"
      ]
     },
     "execution_count": 8,
     "metadata": {},
     "output_type": "execute_result"
    }
   ],
   "source": [
    "# output the MSE\n",
    "MSE = '{:10.9f}'.format(result.mse_resid)\n",
    "MSE"
   ]
  },
  {
   "cell_type": "markdown",
   "metadata": {},
   "source": [
    "## Conclusion\n",
    " - the theoretical run time of radix sort is O(n)\n",
    " - data obtained from sorting sample arrays supports this conclusion\n",
    "     - on the scatterplot, observed values are close to theoretical values\n",
    "     - the mean squared error is close to 0"
   ]
  },
  {
   "cell_type": "code",
   "execution_count": null,
   "metadata": {},
   "outputs": [],
   "source": []
  }
 ],
 "metadata": {
  "kernelspec": {
   "display_name": "Python 3",
   "language": "python",
   "name": "python3"
  },
  "language_info": {
   "codemirror_mode": {
    "name": "ipython",
    "version": 3
   },
   "file_extension": ".py",
   "mimetype": "text/x-python",
   "name": "python",
   "nbconvert_exporter": "python",
   "pygments_lexer": "ipython3",
   "version": "3.7.1"
  }
 },
 "nbformat": 4,
 "nbformat_minor": 2
}
