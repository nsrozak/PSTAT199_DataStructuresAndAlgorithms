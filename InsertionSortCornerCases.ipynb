{
 "cells": [
  {
   "cell_type": "markdown",
   "metadata": {},
   "source": [
    "# Insertion Sort Corner Cases"
   ]
  },
  {
   "cell_type": "code",
   "execution_count": 1,
   "metadata": {},
   "outputs": [],
   "source": [
    "# global imports\n",
    "from time import time\n",
    "import numpy as np\n",
    "import matplotlib.pyplot as plt"
   ]
  },
  {
   "cell_type": "markdown",
   "metadata": {},
   "source": [
    "## Insertion Sort Function"
   ]
  },
  {
   "cell_type": "code",
   "execution_count": 2,
   "metadata": {},
   "outputs": [],
   "source": [
    "# insertion sort function\n",
    "def insertionSort(arr):\n",
    "    '''sorts an array of integers from smallest to largest'''\n",
    "    for i in range(len(arr)):\n",
    "        j = i\n",
    "        while j > 0 and arr[j-1] > arr[j]:\n",
    "            swap(arr, j, j-1)\n",
    "            j = j - 1\n",
    "    return arr\n",
    "\n",
    "# swap function\n",
    "def swap(nums, i, j):\n",
    "    '''swaps the order of two items in an array'''\n",
    "    temp = nums[i]\n",
    "    nums[i] = nums[j]\n",
    "    nums[j] = temp"
   ]
  },
  {
   "cell_type": "markdown",
   "metadata": {},
   "source": [
    "## Arrays with Unusual Lengths\n",
    "\n",
    "### Array of Length 0\n",
    "Outcome \n",
    "* insertionSort() successfully sorts an array of length 0"
   ]
  },
  {
   "cell_type": "code",
   "execution_count": 3,
   "metadata": {},
   "outputs": [
    {
     "data": {
      "text/plain": [
       "[]"
      ]
     },
     "execution_count": 3,
     "metadata": {},
     "output_type": "execute_result"
    }
   ],
   "source": [
    "# array of length 0\n",
    "empty = []\n",
    "insertionSort(empty)"
   ]
  },
  {
   "cell_type": "markdown",
   "metadata": {},
   "source": [
    "### Array of Length 1\n",
    "Outcome \n",
    "* insertionSort() successfully sorts an array of length 1"
   ]
  },
  {
   "cell_type": "code",
   "execution_count": 4,
   "metadata": {},
   "outputs": [
    {
     "data": {
      "text/plain": [
       "[1]"
      ]
     },
     "execution_count": 4,
     "metadata": {},
     "output_type": "execute_result"
    }
   ],
   "source": [
    "# array of length 1\n",
    "single = [1]\n",
    "insertionSort(single)"
   ]
  },
  {
   "cell_type": "markdown",
   "metadata": {},
   "source": [
    "## Arrays with Different Data Types\n",
    "insertionSort() was designed to sort arrays containing positive integers. Here, I call insertionSort() to order arrays that do not meet this assumption. \n",
    "### Array with Negative Numbers\n",
    "Outcome\n",
    "* insertionSort() successfully sorts an array with negative numbers"
   ]
  },
  {
   "cell_type": "code",
   "execution_count": 5,
   "metadata": {},
   "outputs": [
    {
     "data": {
      "text/plain": [
       "[-16, -3, -1, 0, 3, 3, 5, 7, 9]"
      ]
     },
     "execution_count": 5,
     "metadata": {},
     "output_type": "execute_result"
    }
   ],
   "source": [
    "# array with negative numbers\n",
    "neg = [0, 9, -1, 3, 5, -3, 7, -16, 3]\n",
    "insertionSort(neg)"
   ]
  },
  {
   "cell_type": "markdown",
   "metadata": {},
   "source": [
    "### Array with Decimals\n",
    "Outcome\n",
    "* insertionSort() successfully sorts an array with decimals"
   ]
  },
  {
   "cell_type": "code",
   "execution_count": 6,
   "metadata": {},
   "outputs": [
    {
     "data": {
      "text/plain": [
       "[1, 2, 2, 3, 3, 3, 4.4, 5, 6, 8, 9]"
      ]
     },
     "execution_count": 6,
     "metadata": {},
     "output_type": "execute_result"
    }
   ],
   "source": [
    "# array with decimals\n",
    "dec = [1, 3, 5, 2, 9, 4.4, 3, 6, 2, 8, 3]\n",
    "insertionSort(dec)"
   ]
  },
  {
   "cell_type": "markdown",
   "metadata": {},
   "source": [
    "### Array with String\n",
    "Outcome\n",
    "* insertionSort() cannot sort an array with a string\n",
    "* an error message occurs because the function cannot compare integers and strings\n",
    "\n",
    "Correction\n",
    "* create an if/else loop at the beginning of insertionSort()\n",
    "* have the loop check that an array only contains integers\n",
    "    * if the array contains a string, raise ValueError\n",
    "    \n",
    "Modification\n",
    "* create a new array that does not contain the string with an if/else statement\n",
    "* sort the new array using insertionSort()\n",
    "* use append() to add the string to the end of the sorted array"
   ]
  },
  {
   "cell_type": "code",
   "execution_count": 7,
   "metadata": {},
   "outputs": [
    {
     "ename": "TypeError",
     "evalue": "'>' not supported between instances of 'int' and 'str'",
     "output_type": "error",
     "traceback": [
      "\u001b[0;31m---------------------------------------------------------------------------\u001b[0m",
      "\u001b[0;31mTypeError\u001b[0m                                 Traceback (most recent call last)",
      "\u001b[0;32m<ipython-input-7-433bd7797da3>\u001b[0m in \u001b[0;36m<module>\u001b[0;34m\u001b[0m\n\u001b[1;32m      1\u001b[0m \u001b[0;31m# array with string\u001b[0m\u001b[0;34m\u001b[0m\u001b[0;34m\u001b[0m\u001b[0;34m\u001b[0m\u001b[0m\n\u001b[1;32m      2\u001b[0m \u001b[0mstrNum\u001b[0m \u001b[0;34m=\u001b[0m \u001b[0;34m[\u001b[0m\u001b[0;36m6\u001b[0m\u001b[0;34m,\u001b[0m \u001b[0;36m2\u001b[0m\u001b[0;34m,\u001b[0m \u001b[0;36m4\u001b[0m\u001b[0;34m,\u001b[0m \u001b[0;36m7\u001b[0m\u001b[0;34m,\u001b[0m \u001b[0;36m2\u001b[0m\u001b[0;34m,\u001b[0m \u001b[0;34m'hi'\u001b[0m\u001b[0;34m,\u001b[0m \u001b[0;36m9\u001b[0m\u001b[0;34m,\u001b[0m \u001b[0;36m0\u001b[0m\u001b[0;34m,\u001b[0m \u001b[0;36m1\u001b[0m\u001b[0;34m,\u001b[0m \u001b[0;36m3\u001b[0m\u001b[0;34m,\u001b[0m \u001b[0;36m7\u001b[0m\u001b[0;34m]\u001b[0m\u001b[0;34m\u001b[0m\u001b[0;34m\u001b[0m\u001b[0m\n\u001b[0;32m----> 3\u001b[0;31m \u001b[0minsertionSort\u001b[0m\u001b[0;34m(\u001b[0m\u001b[0mstrNum\u001b[0m\u001b[0;34m)\u001b[0m\u001b[0;34m\u001b[0m\u001b[0;34m\u001b[0m\u001b[0m\n\u001b[0m",
      "\u001b[0;32m<ipython-input-2-17c1a47c3e6d>\u001b[0m in \u001b[0;36minsertionSort\u001b[0;34m(arr)\u001b[0m\n\u001b[1;32m      4\u001b[0m     \u001b[0;32mfor\u001b[0m \u001b[0mi\u001b[0m \u001b[0;32min\u001b[0m \u001b[0mrange\u001b[0m\u001b[0;34m(\u001b[0m\u001b[0mlen\u001b[0m\u001b[0;34m(\u001b[0m\u001b[0marr\u001b[0m\u001b[0;34m)\u001b[0m\u001b[0;34m)\u001b[0m\u001b[0;34m:\u001b[0m\u001b[0;34m\u001b[0m\u001b[0;34m\u001b[0m\u001b[0m\n\u001b[1;32m      5\u001b[0m         \u001b[0mj\u001b[0m \u001b[0;34m=\u001b[0m \u001b[0mi\u001b[0m\u001b[0;34m\u001b[0m\u001b[0;34m\u001b[0m\u001b[0m\n\u001b[0;32m----> 6\u001b[0;31m         \u001b[0;32mwhile\u001b[0m \u001b[0mj\u001b[0m \u001b[0;34m>\u001b[0m \u001b[0;36m0\u001b[0m \u001b[0;32mand\u001b[0m \u001b[0marr\u001b[0m\u001b[0;34m[\u001b[0m\u001b[0mj\u001b[0m\u001b[0;34m-\u001b[0m\u001b[0;36m1\u001b[0m\u001b[0;34m]\u001b[0m \u001b[0;34m>\u001b[0m \u001b[0marr\u001b[0m\u001b[0;34m[\u001b[0m\u001b[0mj\u001b[0m\u001b[0;34m]\u001b[0m\u001b[0;34m:\u001b[0m\u001b[0;34m\u001b[0m\u001b[0;34m\u001b[0m\u001b[0m\n\u001b[0m\u001b[1;32m      7\u001b[0m             \u001b[0mswap\u001b[0m\u001b[0;34m(\u001b[0m\u001b[0marr\u001b[0m\u001b[0;34m,\u001b[0m \u001b[0mj\u001b[0m\u001b[0;34m,\u001b[0m \u001b[0mj\u001b[0m\u001b[0;34m-\u001b[0m\u001b[0;36m1\u001b[0m\u001b[0;34m)\u001b[0m\u001b[0;34m\u001b[0m\u001b[0;34m\u001b[0m\u001b[0m\n\u001b[1;32m      8\u001b[0m             \u001b[0mj\u001b[0m \u001b[0;34m=\u001b[0m \u001b[0mj\u001b[0m \u001b[0;34m-\u001b[0m \u001b[0;36m1\u001b[0m\u001b[0;34m\u001b[0m\u001b[0;34m\u001b[0m\u001b[0m\n",
      "\u001b[0;31mTypeError\u001b[0m: '>' not supported between instances of 'int' and 'str'"
     ]
    }
   ],
   "source": [
    "# array with string\n",
    "strNum = [6, 2, 4, 7, 2, 'hi', 9, 0, 1, 3, 7]\n",
    "insertionSort(strNum)"
   ]
  },
  {
   "cell_type": "markdown",
   "metadata": {},
   "source": [
    "### Array of Letters\n",
    "Outcome\n",
    "* insertionSort() successfully sorts an array of letters\n",
    "* letters are sorted alphabetically"
   ]
  },
  {
   "cell_type": "code",
   "execution_count": 8,
   "metadata": {},
   "outputs": [
    {
     "data": {
      "text/plain": [
       "['a', 'a', 'b', 'd', 'g', 'p', 'z']"
      ]
     },
     "execution_count": 8,
     "metadata": {},
     "output_type": "execute_result"
    }
   ],
   "source": [
    "# array of letters\n",
    "letters = ['a', 'd', 'g', 'b', 'a', 'z', 'p']\n",
    "insertionSort(letters)"
   ]
  },
  {
   "cell_type": "markdown",
   "metadata": {},
   "source": [
    "### Array of Strings\n",
    "Outcome\n",
    "* insertionSort() successfully sorts an array of strings\n",
    "* strings are sorted alphabetically"
   ]
  },
  {
   "cell_type": "code",
   "execution_count": 9,
   "metadata": {},
   "outputs": [
    {
     "data": {
      "text/plain": [
       "['a', 'apple', 'car', 'cat', 'hi', 'horse', 'stat']"
      ]
     },
     "execution_count": 9,
     "metadata": {},
     "output_type": "execute_result"
    }
   ],
   "source": [
    "# array of strings\n",
    "strings = ['hi', 'cat', 'apple', 'a', 'stat', 'horse', 'car']\n",
    "insertionSort(strings)"
   ]
  },
  {
   "cell_type": "markdown",
   "metadata": {},
   "source": [
    "## Performance on Arrays with Different Structures\n",
    "Compare the average runtime for\n",
    "- arrays where all elements are the same\n",
    "- arrays where all place values are the same except the ones place\n",
    "    - elements in the arrays are 1000000000 + (random integer between 0 and 9)\n",
    "- arrays where elements are arranged in ascending order\n",
    "- arrays where elements are arranged in descending order\n",
    "  \n",
    "### Timing Function"
   ]
  },
  {
   "cell_type": "code",
   "execution_count": 10,
   "metadata": {},
   "outputs": [],
   "source": [
    "def timeOneInsert(arr):\n",
    "    '''times how long it takes to sort an array'''\n",
    "    t = 0\n",
    "    t0 = time()\n",
    "    s = insertionSort(arr)\n",
    "    t1 = time()\n",
    "    t = t1 - t0\n",
    "    return t"
   ]
  },
  {
   "cell_type": "markdown",
   "metadata": {},
   "source": [
    "### Sort Arrays and Find Run Time"
   ]
  },
  {
   "cell_type": "code",
   "execution_count": 11,
   "metadata": {},
   "outputs": [],
   "source": [
    "# import arrays\n",
    "%store -r arrSame\n",
    "%store -r arrKey\n",
    "%store -r arrInc\n",
    "%store -r arrDec\n",
    "\n",
    "# master array of arrays\n",
    "arr = [arrSame, arrKey, arrInc, arrDec]\n",
    "\n",
    "# initiate time arrays\n",
    "timeSame = []\n",
    "timeKey = []\n",
    "timeInd = []\n",
    "timeDec = []\n",
    "\n",
    "# master array of time arrays\n",
    "times = [timeSame, timeKey, timeInd, timeDec]\n",
    "\n",
    "# time how long it takes to sort each array\n",
    "for i in range(0,4):\n",
    "    for j in range(0,6):\n",
    "        a = arr[i][j]\n",
    "        t = timeOneInsert(a)\n",
    "        times[i].append(t)"
   ]
  },
  {
   "cell_type": "markdown",
   "metadata": {},
   "source": [
    "### Average Run Time of Sorting Each Array Structure"
   ]
  },
  {
   "cell_type": "code",
   "execution_count": 12,
   "metadata": {},
   "outputs": [],
   "source": [
    "# initiate array of means\n",
    "means = []\n",
    "\n",
    "# find mean of each array type\n",
    "for i in times:\n",
    "    mean = np.mean(i)\n",
    "    means.append(mean)"
   ]
  },
  {
   "cell_type": "markdown",
   "metadata": {},
   "source": [
    "### Bar Graph of Average Run Time\n",
    "* insertionSort() performs the best when elements are already sorted\n",
    "    * this occurs when elements are equal and when elements are in ascending order\n",
    "    * the average runtime is almost 0\n",
    "* insertionSort() performs the worst when elements are in descending order"
   ]
  },
  {
   "cell_type": "code",
   "execution_count": 13,
   "metadata": {},
   "outputs": [
    {
     "data": {
      "image/png": "[encoded data removed]",
      "text/plain": [
       "<Figure size 432x288 with 1 Axes>"
      ]
     },
     "metadata": {
      "needs_background": "light"
     },
     "output_type": "display_data"
    }
   ],
   "source": [
    "# labels for bar graph\n",
    "label = ['Equal Elements','Different Ones Place','Ascending Order','Descending Order']\n",
    "index = np.arange(len(label))\n",
    "\n",
    "# bar graph\n",
    "plt.bar(index, means)\n",
    "plt.xlabel('Input Form')\n",
    "plt.ylabel('Runtime')\n",
    "plt.xticks(index, label, rotation=30)\n",
    "plt.title('Runtimes for Different Array Structures')\n",
    "plt.show()"
   ]
  },
  {
   "cell_type": "code",
   "execution_count": null,
   "metadata": {},
   "outputs": [],
   "source": []
  }
 ],
 "metadata": {
  "kernelspec": {
   "display_name": "Python 3",
   "language": "python",
   "name": "python3"
  },
  "language_info": {
   "codemirror_mode": {
    "name": "ipython",
    "version": 3
   },
   "file_extension": ".py",
   "mimetype": "text/x-python",
   "name": "python",
   "nbconvert_exporter": "python",
   "pygments_lexer": "ipython3",
   "version": "3.7.1"
  }
 },
 "nbformat": 4,
 "nbformat_minor": 2
}
